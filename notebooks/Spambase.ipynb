{
 "cells": [
  {
   "cell_type": "code",
   "execution_count": 1,
   "metadata": {},
   "outputs": [
    {
     "data": {
      "text/plain": [
       "((array([0, 1]), array([2788, 1813])), 4601)"
      ]
     },
     "execution_count": 1,
     "metadata": {},
     "output_type": "execute_result"
    }
   ],
   "source": [
    "import numpy as np\n",
    "import pandas as pd\n",
    "from sklearn.preprocessing import normalize\n",
    "from sklearn.model_selection import train_test_split\n",
    "\n",
    "%load_ext autoreload\n",
    "%autoreload 1\n",
    "%aimport linear_models\n",
    "\n",
    "np.set_printoptions(suppress=True)\n",
    "\n",
    "np.set_printoptions(precision=3)\n",
    "\n",
    "data = pd.read_csv(\"../../Datasets/Spambase/spambase.data\", header=None).dropna()\n",
    "y = data.pop(57).values.astype(int)\n",
    "X = data.values.astype('float32')\n",
    "X = normalize(X, norm='l2', axis=0)\n",
    "np.unique(y, return_counts=True), len(y)"
   ]
  },
  {
   "cell_type": "code",
   "execution_count": 2,
   "metadata": {},
   "outputs": [
    {
     "name": "stdout",
     "output_type": "stream",
     "text": [
      "0.5819618169848584 0.06204892753543813\n"
     ]
    }
   ],
   "source": [
    "from data_gen import *\n",
    "from self_learning import msla\n",
    "from sklearn.metrics import accuracy_score\n",
    "\n",
    "err_SLA = []\n",
    "\n",
    "for i in range(20):\n",
    "    id_l = Datasets.load_obj('SPAM_l_'+str(i))\n",
    "    id_u = Datasets.load_obj('SPAM_u_'+str(i))\n",
    "    id_test = Datasets.load_obj('SPAM_test_'+str(i))\n",
    "    H0, Xl, yl, Xu, yu, thetas, _ = msla(X[id_l,], y[id_l], X[id_u,], random_state=2020)\n",
    "    err_SLA.append(accuracy_score(y[id_test], H0.predict(X[id_test,])))\n",
    "print(np.mean(err_SLA), np.std(err_SLA))"
   ]
  },
  {
   "cell_type": "code",
   "execution_count": 20,
   "metadata": {},
   "outputs": [
    {
     "name": "stdout",
     "output_type": "stream",
     "text": [
      "0.5907504937458854 0.048292408685377146\n"
     ]
    }
   ],
   "source": [
    "from sklearn.semi_supervised import LabelPropagation\n",
    "from data_gen import *\n",
    "from sklearn.metrics import accuracy_score\n",
    "\n",
    "err_prop = []\n",
    "\n",
    "for i in range(20):\n",
    "    id_l = Datasets.load_obj('SPAM_l_'+str(i))\n",
    "    id_u = Datasets.load_obj('SPAM_u_'+str(i))\n",
    "    id_test = Datasets.load_obj('SPAM_test_'+str(i))\n",
    "    X_train = np.concatenate((X[id_l,], X[id_u,]))\n",
    "    y_train = np.concatenate((y[id_l,], -1*np.ones(len(id_u), dtype=int)))\n",
    "    model = LabelPropagation(n_jobs=-1)\n",
    "    model.fit(X_train, y_train)\n",
    "    err_prop.append(accuracy_score(y[id_test], model.predict(X[id_test,])))\n",
    "print(np.mean(err_prop), np.std(err_prop))"
   ]
  },
  {
   "cell_type": "code",
   "execution_count": 2,
   "metadata": {},
   "outputs": [
    {
     "name": "stdout",
     "output_type": "stream",
     "text": [
      "50 labeled data :  0.7403554970375247 0.05413496777238866\n",
      "all labeled data :  0.8951612903225806 0.008208994535174286\n"
     ]
    }
   ],
   "source": [
    "from data_gen import *\n",
    "from linear_models import *\n",
    "from sklearn.metrics import accuracy_score\n",
    "\n",
    "scr_all = []\n",
    "scr_50 = []\n",
    "\n",
    "for i in range(20):\n",
    "    id_l = Datasets.load_obj('SPAM_l_'+str(i))\n",
    "    id_u = Datasets.load_obj('SPAM_u_'+str(i))\n",
    "    id_all = np.concatenate((id_l, id_u))\n",
    "    id_test = Datasets.load_obj('SPAM_test_'+str(i))\n",
    "    LTF_all = Halfspace()\n",
    "    LTF_all.fit(X[id_all,], y[id_all])\n",
    "    scr_all.append(LTF_all.score(X[id_test,], y[id_test]))\n",
    "    LTF_50 = Halfspace()\n",
    "    LTF_50.fit(X[id_l,], y[id_l])\n",
    "    scr_50.append(LTF_50.score(X[id_test,], y[id_test]))\n",
    "    \n",
    "print('50 labeled data : ', np.mean(scr_50), np.std(scr_50))\n",
    "print('all labeled data : ', np.mean(scr_all), np.std(scr_all))"
   ]
  },
  {
   "cell_type": "code",
   "execution_count": null,
   "metadata": {},
   "outputs": [],
   "source": [
    "from data_gen import *\n",
    "from linear_models import *\n",
    "from sklearn.metrics import accuracy_score\n",
    "\n",
    "scr_all = []\n",
    "scr_50 = []\n",
    "\n",
    "for i in range(20):\n",
    "    id_l = Datasets.load_obj('SPAM_l_'+str(i))\n",
    "    id_u = Datasets.load_obj('SPAM_u_'+str(i))\n",
    "    id_all = np.concatenate((id_l, id_u))\n",
    "    id_test = Datasets.load_obj('SPAM_test_'+str(i))\n",
    "    LTF_all = Halfspace()\n",
    "    LTF_all.fit(X[id_all,], y[id_all])\n",
    "    scr_all.append(LTF_all.score(X[id_test,], y[id_test]))\n",
    "    LTF_50 = Halfspace()\n",
    "    LTF_50.fit(X[id_l,], y[id_l])\n",
    "    scr_50.append(LTF_50.score(X[id_test,], y[id_test]))\n",
    "    \n",
    "print('50 labeled data : ', np.mean(scr_50), np.std(scr_50))\n",
    "print('all labeled data : ', np.mean(scr_all), np.std(scr_all))"
   ]
  },
  {
   "cell_type": "code",
   "execution_count": 2,
   "metadata": {},
   "outputs": [
    {
     "name": "stdout",
     "output_type": "stream",
     "text": [
      "0.8959842001316656\n",
      "0.8926925608953259\n",
      "0.8959842001316656\n",
      "0.8992758393680053\n",
      "0.9065174456879526\n",
      "0.9150757077024358\n",
      "0.9104674127715603\n",
      "0.9052007899934167\n",
      "0.9038841342988808\n",
      "0.9038841342988808\n",
      "0.8992758393680053\n",
      "0.8973008558262014\n",
      "0.9091507570770243\n",
      "0.8946675444371297\n",
      "0.901909150757077\n",
      "0.9032258064516129\n",
      "0.8953258722843976\n",
      "0.9104674127715603\n",
      "0.8973008558262014\n",
      "0.9045424621461488\n"
     ]
    }
   ],
   "source": [
    "from data_gen import *\n",
    "from linear_models import *\n",
    "from sklearn.metrics import accuracy_score\n",
    "\n",
    "\n",
    "for i in range(20):\n",
    "    id_l = Datasets.load_obj('SPAM_l_'+str(i))\n",
    "    id_u = Datasets.load_obj('SPAM_u_'+str(i))\n",
    "    id_all = np.concatenate((id_l, id_u))\n",
    "    id_test = Datasets.load_obj('SPAM_test_'+str(i))\n",
    "    LK = Halfspaces(epochs=1000, leakage=.1, thresh='rand')\n",
    "    LK.fit(X[id_all,], y[id_all])\n",
    "    print(LK.score(X[id_test,], y[id_test]))"
   ]
  },
  {
   "cell_type": "code",
   "execution_count": 14,
   "metadata": {},
   "outputs": [
    {
     "data": {
      "text/plain": [
       "(20, 0.9021066491112576, 0.006030441192576623)"
      ]
     },
     "execution_count": 14,
     "metadata": {},
     "output_type": "execute_result"
    }
   ],
   "source": [
    "stats = [0.8959842001316656, 0.8926925608953259, 0.8959842001316656, 0.8992758393680053, 0.9065174456879526, 0.9150757077024358, 0.9104674127715603, 0.9052007899934167, 0.9038841342988808, 0.9038841342988808, 0.8992758393680053, 0.8973008558262014, 0.9091507570770243, 0.8946675444371297, 0.901909150757077, 0.9032258064516129, 0.8953258722843976, 0.9104674127715603, 0.8973008558262014, 0.9045424621461488]\n",
    "len(stats), np.mean(stats), np.std(stats)"
   ]
  },
  {
   "cell_type": "code",
   "execution_count": 12,
   "metadata": {},
   "outputs": [
    {
     "name": "stdout",
     "output_type": "stream",
     "text": [
      "step :  20 scores :  [1.    1.    1.    1.    1.    1.    1.    1.    1.    1.    1.    1.\n",
      " 1.    1.    1.    1.    1.    1.    0.978 0.98 ]\n",
      "Pseudo labeled data  (array([0, 1]), array([262, 786]))\n",
      "|Xl|= 1098 , |Xu|= 1984 , pseudo-labeled set (size, accuracy) : 1048 0.8797709923664122\n",
      "training set (accuracy, ratio) :  0.8852459016393442 (array([0, 1]), array([286, 812]))\n",
      "step :  20 scores :  [1.    1.    1.    1.    1.    1.    1.    1.    1.    1.    1.    1.\n",
      " 1.    1.    1.    1.    0.998 0.997 0.997 0.997]\n",
      "Pseudo labeled data  (array([0, 1]), array([169,  49]))\n",
      "|Xl|= 1316 , |Xu|= 1766 , pseudo-labeled set (size, accuracy) : 218 0.9908256880733946\n",
      "training set (accuracy, ratio) :  0.9027355623100304 (array([0, 1]), array([455, 861]))\n",
      "step :  20 scores :  [1.    1.    1.    1.    1.    1.    1.    1.    1.    1.    1.    1.\n",
      " 1.    1.    1.    1.    1.    0.999 0.997 0.997]\n",
      "Pseudo labeled data  (array([0, 1]), array([49, 59]))\n",
      "|Xl|= 1424 , |Xu|= 1658 , pseudo-labeled set (size, accuracy) : 108 0.9166666666666666\n",
      "training set (accuracy, ratio) :  0.9037921348314607 (array([0, 1]), array([504, 920]))\n",
      "step :  20 scores :  [1. 1. 1. 1. 1. 1. 1. 1. 1. 1. 1. 1. 1. 1. 1. 1. 1. 1. 1. 1.]\n",
      "Pseudo labeled data  (array([0, 1]), array([22, 48]))\n",
      "|Xl|= 1494 , |Xu|= 1588 , pseudo-labeled set (size, accuracy) : 70 0.9428571428571428\n",
      "training set (accuracy, ratio) :  0.9056224899598394 (array([0, 1]), array([526, 968]))\n",
      "step :  20 scores :  [1.    1.    1.    1.    1.    1.    1.    1.    1.    1.    1.    1.\n",
      " 1.    1.    1.    1.    1.    1.    0.999 0.997]\n",
      "Pseudo labeled data  (array([0, 1]), array([124, 181]))\n",
      "|Xl|= 1799 , |Xu|= 1283 , pseudo-labeled set (size, accuracy) : 305 0.8688524590163934\n",
      "training set (accuracy, ratio) :  0.8993885491939967 (array([0, 1]), array([ 650, 1149]))\n",
      "step :  20 scores :  [1.    1.    1.    1.    1.    1.    1.    1.    1.    1.    1.    1.\n",
      " 1.    1.    1.    1.    1.    0.999 0.999 0.999]\n",
      "Pseudo labeled data  (array([0, 1]), array([ 2, 12]))\n",
      "|Xl|= 1813 , |Xu|= 1269 , pseudo-labeled set (size, accuracy) : 14 0.35714285714285715\n",
      "training set (accuracy, ratio) :  0.8952013237727523 (array([0, 1]), array([ 652, 1161]))\n",
      "step :  20 scores :  [1.    1.    1.    1.    1.    1.    1.    1.    1.    1.    1.    1.\n",
      " 1.    1.    1.    1.    1.    0.999 0.999 0.999]\n",
      "Pseudo labeled data  (array([1]), array([1]))\n",
      "|Xl|= 1814 , |Xu|= 1268 , pseudo-labeled set (size, accuracy) : 1 0.0\n",
      "training set (accuracy, ratio) :  0.8947078280044102 (array([0, 1]), array([ 652, 1162]))\n",
      "step :  20 scores :  [1.    1.    1.    1.    1.    1.    1.    1.    1.    1.    1.    1.\n",
      " 1.    1.    1.    1.    1.    0.999 0.999 0.999]\n",
      "no confidence threshol\n",
      "Pseudo labeled data  (array([0, 1]), array([ 2, 18]))\n",
      "|Xl|= 1834 , |Xu|= 1248 , pseudo-labeled set (size, accuracy) : 20 0.7\n",
      "training set (accuracy, ratio) :  0.8925845147219194 (array([0, 1]), array([ 654, 1180]))\n",
      "step :  20 scores :  [1.    1.    1.    1.    1.    1.    1.    1.    1.    1.    1.    1.\n",
      " 1.    1.    1.    1.    0.999 0.999 0.999 0.998]\n",
      "no confidence threshol\n",
      "Pseudo labeled data  (array([0, 1]), array([ 2, 19]))\n",
      "|Xl|= 1855 , |Xu|= 1227 , pseudo-labeled set (size, accuracy) : 21 0.5714285714285714\n",
      "training set (accuracy, ratio) :  0.8889487870619946 (array([0, 1]), array([ 656, 1199]))\n",
      "step :  20 scores :  [1.    1.    1.    1.    1.    1.    1.    1.    1.    1.    1.    1.\n",
      " 1.    1.    0.999 0.999 0.999 0.999 0.999 0.996]\n",
      "no confidence threshol\n",
      "Pseudo labeled data  (array([0, 1]), array([ 4, 19]))\n",
      "|Xl|= 1878 , |Xu|= 1204 , pseudo-labeled set (size, accuracy) : 23 0.8260869565217391\n",
      "training set (accuracy, ratio) :  0.8881789137380192 (array([0, 1]), array([ 660, 1218]))\n",
      "step :  20 scores :  [1.    1.    1.    1.    1.    1.    1.    1.    1.    1.    1.    1.\n",
      " 1.    1.    1.    0.999 0.999 0.998 0.998 0.994]\n",
      "no confidence threshol\n",
      "Pseudo labeled data  (array([0, 1]), array([11, 10]))\n",
      "|Xl|= 1899 , |Xu|= 1183 , pseudo-labeled set (size, accuracy) : 21 0.6666666666666666\n",
      "training set (accuracy, ratio) :  0.8857293312269615 (array([0, 1]), array([ 671, 1228]))\n",
      "step :  20 scores :  [1.    1.    1.    1.    1.    1.    1.    1.    1.    1.    1.    1.\n",
      " 1.    1.    1.    1.    0.999 0.999 0.999 0.999]\n",
      "no confidence threshol\n",
      "Pseudo labeled data  (array([0, 1]), array([ 6, 17]))\n",
      "|Xl|= 1922 , |Xu|= 1160 , pseudo-labeled set (size, accuracy) : 23 0.782608695652174\n",
      "training set (accuracy, ratio) :  0.8844953173777316 (array([0, 1]), array([ 677, 1245]))\n",
      "step :  20 scores :  [1.    1.    1.    1.    1.    1.    1.    1.    1.    1.    1.    1.\n",
      " 1.    1.    1.    1.    1.    0.999 0.999 0.999]\n",
      "no confidence threshol\n",
      "Pseudo labeled data  (array([0, 1]), array([24,  4]))\n",
      "|Xl|= 1950 , |Xu|= 1132 , pseudo-labeled set (size, accuracy) : 28 0.8214285714285714\n",
      "training set (accuracy, ratio) :  0.8835897435897436 (array([0, 1]), array([ 701, 1249]))\n",
      "step :  20 scores :  [1.    1.    1.    1.    1.    1.    1.    1.    1.    1.    1.    1.\n",
      " 1.    1.    1.    0.999 0.999 0.999 0.999 0.999]\n",
      "no confidence threshol\n",
      "Pseudo labeled data  (array([1]), array([25]))\n",
      "|Xl|= 1975 , |Xu|= 1107 , pseudo-labeled set (size, accuracy) : 25 0.52\n",
      "training set (accuracy, ratio) :  0.8789873417721519 (array([0, 1]), array([ 701, 1274]))\n",
      "step :  20 scores :  [1.    1.    1.    1.    1.    1.    1.    1.    1.    1.    1.    1.\n",
      " 1.    0.999 0.999 0.999 0.999 0.997 0.997 0.997]\n",
      "no confidence threshol\n",
      "Pseudo labeled data  (array([0, 1]), array([ 8, 15]))\n",
      "|Xl|= 1998 , |Xu|= 1084 , pseudo-labeled set (size, accuracy) : 23 0.6086956521739131\n",
      "training set (accuracy, ratio) :  0.8758758758758759 (array([0, 1]), array([ 709, 1289]))\n",
      "step :  20 scores :  [1.    1.    1.    1.    1.    1.    1.    1.    1.    1.    1.    1.\n",
      " 1.    1.    1.    0.999 0.999 0.999 0.999 0.999]\n",
      "no confidence threshol\n",
      "Pseudo labeled data  (array([0, 1]), array([11,  9]))\n",
      "|Xl|= 2018 , |Xu|= 1064 , pseudo-labeled set (size, accuracy) : 20 0.85\n",
      "training set (accuracy, ratio) :  0.875619425173439 (array([0, 1]), array([ 720, 1298]))\n"
     ]
    },
    {
     "ename": "KeyboardInterrupt",
     "evalue": "",
     "output_type": "error",
     "traceback": [
      "\u001b[0;31m---------------------------------------------------------------------------\u001b[0m",
      "\u001b[0;31mKeyboardInterrupt\u001b[0m                         Traceback (most recent call last)",
      "\u001b[0;32m<ipython-input-12-75342fd5292f>\u001b[0m in \u001b[0;36m<module>\u001b[0;34m\u001b[0m\n\u001b[1;32m      9\u001b[0m     \u001b[0mid_test\u001b[0m \u001b[0;34m=\u001b[0m \u001b[0mDatasets\u001b[0m\u001b[0;34m.\u001b[0m\u001b[0mload_obj\u001b[0m\u001b[0;34m(\u001b[0m\u001b[0;34m'SPAM_test_'\u001b[0m\u001b[0;34m+\u001b[0m\u001b[0mstr\u001b[0m\u001b[0;34m(\u001b[0m\u001b[0mi\u001b[0m\u001b[0;34m)\u001b[0m\u001b[0;34m)\u001b[0m\u001b[0;34m\u001b[0m\u001b[0;34m\u001b[0m\u001b[0m\n\u001b[1;32m     10\u001b[0m     \u001b[0mLK\u001b[0m \u001b[0;34m=\u001b[0m \u001b[0mSSL_Halfspaces\u001b[0m\u001b[0;34m(\u001b[0m\u001b[0mepochs\u001b[0m\u001b[0;34m=\u001b[0m\u001b[0;36m5000\u001b[0m\u001b[0;34m,\u001b[0m \u001b[0mverbose\u001b[0m\u001b[0;34m=\u001b[0m\u001b[0;32mTrue\u001b[0m\u001b[0;34m)\u001b[0m\u001b[0;34m\u001b[0m\u001b[0;34m\u001b[0m\u001b[0m\n\u001b[0;32m---> 11\u001b[0;31m     \u001b[0mLK\u001b[0m\u001b[0;34m.\u001b[0m\u001b[0mfit\u001b[0m\u001b[0;34m(\u001b[0m\u001b[0mX\u001b[0m\u001b[0;34m[\u001b[0m\u001b[0mid_l\u001b[0m\u001b[0;34m,\u001b[0m\u001b[0;34m]\u001b[0m\u001b[0;34m,\u001b[0m \u001b[0my\u001b[0m\u001b[0;34m[\u001b[0m\u001b[0mid_l\u001b[0m\u001b[0;34m]\u001b[0m\u001b[0;34m,\u001b[0m \u001b[0mX\u001b[0m\u001b[0;34m[\u001b[0m\u001b[0mid_u\u001b[0m\u001b[0;34m,\u001b[0m\u001b[0;34m]\u001b[0m\u001b[0;34m,\u001b[0m \u001b[0my\u001b[0m\u001b[0;34m[\u001b[0m\u001b[0mid_u\u001b[0m\u001b[0;34m]\u001b[0m\u001b[0;34m)\u001b[0m\u001b[0;34m\u001b[0m\u001b[0;34m\u001b[0m\u001b[0m\n\u001b[0m",
      "\u001b[0;32m~/Desktop/ssl/code/linear_models.py\u001b[0m in \u001b[0;36mfit\u001b[0;34m(self, Xl, Yl, Xu, Yu)\u001b[0m\n\u001b[1;32m    543\u001b[0m                 \u001b[0;31m#else:\u001b[0m\u001b[0;34m\u001b[0m\u001b[0;34m\u001b[0m\u001b[0;34m\u001b[0m\u001b[0m\n\u001b[1;32m    544\u001b[0m                 \u001b[0mX_train\u001b[0m\u001b[0;34m,\u001b[0m \u001b[0my_train\u001b[0m \u001b[0;34m=\u001b[0m \u001b[0mshuffle\u001b[0m\u001b[0;34m(\u001b[0m\u001b[0mX_train\u001b[0m\u001b[0;34m,\u001b[0m \u001b[0my_train\u001b[0m\u001b[0;34m,\u001b[0m \u001b[0mrandom_state\u001b[0m\u001b[0;34m=\u001b[0m\u001b[0;36m2020\u001b[0m\u001b[0;34m)\u001b[0m\u001b[0;34m\u001b[0m\u001b[0;34m\u001b[0m\u001b[0m\n\u001b[0;32m--> 545\u001b[0;31m                 \u001b[0mself\u001b[0m\u001b[0;34m.\u001b[0m\u001b[0mtrain\u001b[0m\u001b[0;34m(\u001b[0m\u001b[0mX_train\u001b[0m\u001b[0;34m,\u001b[0m \u001b[0;36m2\u001b[0m\u001b[0;34m*\u001b[0m\u001b[0my_train\u001b[0m\u001b[0;34m-\u001b[0m\u001b[0;36m1\u001b[0m\u001b[0;34m)\u001b[0m\u001b[0;34m\u001b[0m\u001b[0;34m\u001b[0m\u001b[0m\n\u001b[0m\u001b[1;32m    546\u001b[0m \u001b[0;34m\u001b[0m\u001b[0m\n\u001b[1;32m    547\u001b[0m             \u001b[0;31m#self.models.append(LTF(Xl.shape[1]))\u001b[0m\u001b[0;34m\u001b[0m\u001b[0;34m\u001b[0m\u001b[0;34m\u001b[0m\u001b[0m\n",
      "\u001b[0;32m~/Desktop/ssl/code/linear_models.py\u001b[0m in \u001b[0;36mtrain\u001b[0;34m(self, inputs, outputs)\u001b[0m\n\u001b[1;32m    315\u001b[0m     \u001b[0;32mdef\u001b[0m \u001b[0mtrain\u001b[0m\u001b[0;34m(\u001b[0m\u001b[0mself\u001b[0m\u001b[0;34m,\u001b[0m \u001b[0minputs\u001b[0m\u001b[0;34m,\u001b[0m \u001b[0moutputs\u001b[0m\u001b[0;34m)\u001b[0m\u001b[0;34m:\u001b[0m\u001b[0;34m\u001b[0m\u001b[0;34m\u001b[0m\u001b[0m\n\u001b[1;32m    316\u001b[0m         \u001b[0;32mwith\u001b[0m \u001b[0mtf\u001b[0m\u001b[0;34m.\u001b[0m\u001b[0mGradientTape\u001b[0m\u001b[0;34m(\u001b[0m\u001b[0mpersistent\u001b[0m\u001b[0;34m=\u001b[0m\u001b[0;32mTrue\u001b[0m\u001b[0;34m)\u001b[0m \u001b[0;32mas\u001b[0m \u001b[0mtape\u001b[0m\u001b[0;34m:\u001b[0m\u001b[0;34m\u001b[0m\u001b[0;34m\u001b[0m\u001b[0m\n\u001b[0;32m--> 317\u001b[0;31m             \u001b[0mcurrent_loss\u001b[0m \u001b[0;34m=\u001b[0m \u001b[0mself\u001b[0m\u001b[0;34m.\u001b[0m\u001b[0mloss\u001b[0m\u001b[0;34m(\u001b[0m\u001b[0mself\u001b[0m\u001b[0;34m.\u001b[0m\u001b[0mmodels\u001b[0m\u001b[0;34m[\u001b[0m\u001b[0;34m-\u001b[0m\u001b[0;36m1\u001b[0m\u001b[0;34m]\u001b[0m\u001b[0;34m(\u001b[0m\u001b[0minputs\u001b[0m\u001b[0;34m)\u001b[0m\u001b[0;34m,\u001b[0m \u001b[0moutputs\u001b[0m\u001b[0;34m)\u001b[0m\u001b[0;34m\u001b[0m\u001b[0;34m\u001b[0m\u001b[0m\n\u001b[0m\u001b[1;32m    318\u001b[0m         \u001b[0mdw\u001b[0m \u001b[0;34m=\u001b[0m \u001b[0mtape\u001b[0m\u001b[0;34m.\u001b[0m\u001b[0mgradient\u001b[0m\u001b[0;34m(\u001b[0m\u001b[0mcurrent_loss\u001b[0m\u001b[0;34m,\u001b[0m \u001b[0;34m[\u001b[0m\u001b[0mself\u001b[0m\u001b[0;34m.\u001b[0m\u001b[0mmodels\u001b[0m\u001b[0;34m[\u001b[0m\u001b[0;34m-\u001b[0m\u001b[0;36m1\u001b[0m\u001b[0;34m]\u001b[0m\u001b[0;34m.\u001b[0m\u001b[0mw\u001b[0m\u001b[0;34m]\u001b[0m\u001b[0;34m)\u001b[0m\u001b[0;34m\u001b[0m\u001b[0;34m\u001b[0m\u001b[0m\n\u001b[1;32m    319\u001b[0m         \u001b[0mself\u001b[0m\u001b[0;34m.\u001b[0m\u001b[0mmodels\u001b[0m\u001b[0;34m[\u001b[0m\u001b[0;34m-\u001b[0m\u001b[0;36m1\u001b[0m\u001b[0;34m]\u001b[0m\u001b[0;34m.\u001b[0m\u001b[0mw\u001b[0m\u001b[0;34m.\u001b[0m\u001b[0massign_sub\u001b[0m\u001b[0;34m(\u001b[0m\u001b[0mtf\u001b[0m\u001b[0;34m.\u001b[0m\u001b[0mreshape\u001b[0m\u001b[0;34m(\u001b[0m\u001b[0mself\u001b[0m\u001b[0;34m.\u001b[0m\u001b[0mlearning_rate\u001b[0m \u001b[0;34m*\u001b[0m \u001b[0mdw\u001b[0m\u001b[0;34m,\u001b[0m \u001b[0mself\u001b[0m\u001b[0;34m.\u001b[0m\u001b[0mmodels\u001b[0m\u001b[0;34m[\u001b[0m\u001b[0;34m-\u001b[0m\u001b[0;36m1\u001b[0m\u001b[0;34m]\u001b[0m\u001b[0;34m.\u001b[0m\u001b[0mw\u001b[0m\u001b[0;34m.\u001b[0m\u001b[0mshape\u001b[0m\u001b[0;34m)\u001b[0m\u001b[0;34m)\u001b[0m\u001b[0;34m\u001b[0m\u001b[0;34m\u001b[0m\u001b[0m\n",
      "\u001b[0;32m~/Desktop/ssl/code/linear_models.py\u001b[0m in \u001b[0;36mloss\u001b[0;34m(self, predicted_y, target_y)\u001b[0m\n\u001b[1;32m    310\u001b[0m \u001b[0;34m\u001b[0m\u001b[0m\n\u001b[1;32m    311\u001b[0m     \u001b[0;32mdef\u001b[0m \u001b[0mloss\u001b[0m\u001b[0;34m(\u001b[0m\u001b[0mself\u001b[0m\u001b[0;34m,\u001b[0m \u001b[0mpredicted_y\u001b[0m\u001b[0;34m,\u001b[0m \u001b[0mtarget_y\u001b[0m\u001b[0;34m)\u001b[0m\u001b[0;34m:\u001b[0m\u001b[0;34m\u001b[0m\u001b[0;34m\u001b[0m\u001b[0m\n\u001b[0;32m--> 312\u001b[0;31m         \u001b[0;32mreturn\u001b[0m \u001b[0mleakyrelu\u001b[0m\u001b[0;34m(\u001b[0m\u001b[0;34m-\u001b[0m\u001b[0mpredicted_y\u001b[0m \u001b[0;34m*\u001b[0m \u001b[0mtarget_y\u001b[0m\u001b[0;34m,\u001b[0m \u001b[0mleakage\u001b[0m\u001b[0;34m=\u001b[0m\u001b[0mself\u001b[0m\u001b[0;34m.\u001b[0m\u001b[0mleakage\u001b[0m\u001b[0;34m)\u001b[0m\u001b[0;34m\u001b[0m\u001b[0;34m\u001b[0m\u001b[0m\n\u001b[0m\u001b[1;32m    313\u001b[0m \u001b[0;34m\u001b[0m\u001b[0m\n\u001b[1;32m    314\u001b[0m \u001b[0;34m\u001b[0m\u001b[0m\n",
      "\u001b[0;32m~/Desktop/ssl/code/linear_models.py\u001b[0m in \u001b[0;36mleakyrelu\u001b[0;34m(X, leakage)\u001b[0m\n\u001b[1;32m     17\u001b[0m \u001b[0;34m\u001b[0m\u001b[0m\n\u001b[1;32m     18\u001b[0m \u001b[0;32mdef\u001b[0m \u001b[0mleakyrelu\u001b[0m\u001b[0;34m(\u001b[0m\u001b[0mX\u001b[0m\u001b[0;34m,\u001b[0m \u001b[0mleakage\u001b[0m\u001b[0;34m=\u001b[0m\u001b[0;36m.2\u001b[0m\u001b[0;34m)\u001b[0m\u001b[0;34m:\u001b[0m\u001b[0;34m\u001b[0m\u001b[0;34m\u001b[0m\u001b[0m\n\u001b[0;32m---> 19\u001b[0;31m     \u001b[0;32mreturn\u001b[0m \u001b[0mtf\u001b[0m\u001b[0;34m.\u001b[0m\u001b[0mmath\u001b[0m\u001b[0;34m.\u001b[0m\u001b[0mscalar_mul\u001b[0m\u001b[0;34m(\u001b[0m\u001b[0;36m1.\u001b[0m\u001b[0;34m-\u001b[0m\u001b[0mleakage\u001b[0m\u001b[0;34m,\u001b[0m \u001b[0mtf\u001b[0m\u001b[0;34m.\u001b[0m\u001b[0mmath\u001b[0m\u001b[0;34m.\u001b[0m\u001b[0mmultiply\u001b[0m\u001b[0;34m(\u001b[0m\u001b[0mtf\u001b[0m\u001b[0;34m.\u001b[0m\u001b[0mcast\u001b[0m\u001b[0;34m(\u001b[0m\u001b[0mX\u001b[0m \u001b[0;34m>=\u001b[0m \u001b[0;36m0.\u001b[0m\u001b[0;34m,\u001b[0m \u001b[0mtf\u001b[0m\u001b[0;34m.\u001b[0m\u001b[0mfloat32\u001b[0m\u001b[0;34m)\u001b[0m\u001b[0;34m,\u001b[0m \u001b[0mX\u001b[0m\u001b[0;34m)\u001b[0m\u001b[0;34m)\u001b[0m \u001b[0;34m+\u001b[0m \u001b[0mtf\u001b[0m\u001b[0;34m.\u001b[0m\u001b[0mmath\u001b[0m\u001b[0;34m.\u001b[0m\u001b[0mscalar_mul\u001b[0m\u001b[0;34m(\u001b[0m\u001b[0mleakage\u001b[0m\u001b[0;34m,\u001b[0m \u001b[0mtf\u001b[0m\u001b[0;34m.\u001b[0m\u001b[0mmath\u001b[0m\u001b[0;34m.\u001b[0m\u001b[0mmultiply\u001b[0m\u001b[0;34m(\u001b[0m\u001b[0mtf\u001b[0m\u001b[0;34m.\u001b[0m\u001b[0mcast\u001b[0m\u001b[0;34m(\u001b[0m\u001b[0mX\u001b[0m \u001b[0;34m<\u001b[0m \u001b[0;36m0.\u001b[0m\u001b[0;34m,\u001b[0m \u001b[0mtf\u001b[0m\u001b[0;34m.\u001b[0m\u001b[0mfloat32\u001b[0m\u001b[0;34m)\u001b[0m\u001b[0;34m,\u001b[0m \u001b[0mX\u001b[0m\u001b[0;34m)\u001b[0m\u001b[0;34m)\u001b[0m\u001b[0;34m\u001b[0m\u001b[0;34m\u001b[0m\u001b[0m\n\u001b[0m\u001b[1;32m     20\u001b[0m \u001b[0;34m\u001b[0m\u001b[0m\n\u001b[1;32m     21\u001b[0m \u001b[0;34m\u001b[0m\u001b[0m\n",
      "\u001b[0;32m~/opt/anaconda3/envs/tf2/lib/python3.7/site-packages/tensorflow_core/python/util/dispatch.py\u001b[0m in \u001b[0;36mwrapper\u001b[0;34m(*args, **kwargs)\u001b[0m\n\u001b[1;32m    178\u001b[0m     \u001b[0;34m\"\"\"Call target, and fall back on dispatchers if there is a TypeError.\"\"\"\u001b[0m\u001b[0;34m\u001b[0m\u001b[0;34m\u001b[0m\u001b[0m\n\u001b[1;32m    179\u001b[0m     \u001b[0;32mtry\u001b[0m\u001b[0;34m:\u001b[0m\u001b[0;34m\u001b[0m\u001b[0;34m\u001b[0m\u001b[0m\n\u001b[0;32m--> 180\u001b[0;31m       \u001b[0;32mreturn\u001b[0m \u001b[0mtarget\u001b[0m\u001b[0;34m(\u001b[0m\u001b[0;34m*\u001b[0m\u001b[0margs\u001b[0m\u001b[0;34m,\u001b[0m \u001b[0;34m**\u001b[0m\u001b[0mkwargs\u001b[0m\u001b[0;34m)\u001b[0m\u001b[0;34m\u001b[0m\u001b[0;34m\u001b[0m\u001b[0m\n\u001b[0m\u001b[1;32m    181\u001b[0m     \u001b[0;32mexcept\u001b[0m \u001b[0;34m(\u001b[0m\u001b[0mTypeError\u001b[0m\u001b[0;34m,\u001b[0m \u001b[0mValueError\u001b[0m\u001b[0;34m)\u001b[0m\u001b[0;34m:\u001b[0m\u001b[0;34m\u001b[0m\u001b[0;34m\u001b[0m\u001b[0m\n\u001b[1;32m    182\u001b[0m       \u001b[0;31m# Note: convert_to_eager_tensor currently raises a ValueError, not a\u001b[0m\u001b[0;34m\u001b[0m\u001b[0;34m\u001b[0m\u001b[0;34m\u001b[0m\u001b[0m\n",
      "\u001b[0;32m~/opt/anaconda3/envs/tf2/lib/python3.7/site-packages/tensorflow_core/python/ops/math_ops.py\u001b[0m in \u001b[0;36mmultiply\u001b[0;34m(x, y, name)\u001b[0m\n\u001b[1;32m    329\u001b[0m \u001b[0;34m@\u001b[0m\u001b[0mdispatch\u001b[0m\u001b[0;34m.\u001b[0m\u001b[0madd_dispatch_support\u001b[0m\u001b[0;34m\u001b[0m\u001b[0;34m\u001b[0m\u001b[0m\n\u001b[1;32m    330\u001b[0m \u001b[0;32mdef\u001b[0m \u001b[0mmultiply\u001b[0m\u001b[0;34m(\u001b[0m\u001b[0mx\u001b[0m\u001b[0;34m,\u001b[0m \u001b[0my\u001b[0m\u001b[0;34m,\u001b[0m \u001b[0mname\u001b[0m\u001b[0;34m=\u001b[0m\u001b[0;32mNone\u001b[0m\u001b[0;34m)\u001b[0m\u001b[0;34m:\u001b[0m\u001b[0;34m\u001b[0m\u001b[0;34m\u001b[0m\u001b[0m\n\u001b[0;32m--> 331\u001b[0;31m   \u001b[0;32mreturn\u001b[0m \u001b[0mgen_math_ops\u001b[0m\u001b[0;34m.\u001b[0m\u001b[0mmul\u001b[0m\u001b[0;34m(\u001b[0m\u001b[0mx\u001b[0m\u001b[0;34m,\u001b[0m \u001b[0my\u001b[0m\u001b[0;34m,\u001b[0m \u001b[0mname\u001b[0m\u001b[0;34m)\u001b[0m\u001b[0;34m\u001b[0m\u001b[0;34m\u001b[0m\u001b[0m\n\u001b[0m\u001b[1;32m    332\u001b[0m \u001b[0;34m\u001b[0m\u001b[0m\n\u001b[1;32m    333\u001b[0m \u001b[0;34m\u001b[0m\u001b[0m\n",
      "\u001b[0;32m~/opt/anaconda3/envs/tf2/lib/python3.7/site-packages/tensorflow_core/python/ops/gen_math_ops.py\u001b[0m in \u001b[0;36mmul\u001b[0;34m(x, y, name)\u001b[0m\n\u001b[1;32m   6683\u001b[0m       _result = _pywrap_tensorflow.TFE_Py_FastPathExecute(\n\u001b[1;32m   6684\u001b[0m         \u001b[0m_ctx\u001b[0m\u001b[0;34m.\u001b[0m\u001b[0m_context_handle\u001b[0m\u001b[0;34m,\u001b[0m \u001b[0m_ctx\u001b[0m\u001b[0;34m.\u001b[0m\u001b[0m_thread_local_data\u001b[0m\u001b[0;34m.\u001b[0m\u001b[0mdevice_name\u001b[0m\u001b[0;34m,\u001b[0m \u001b[0;34m\"Mul\"\u001b[0m\u001b[0;34m,\u001b[0m\u001b[0;34m\u001b[0m\u001b[0;34m\u001b[0m\u001b[0m\n\u001b[0;32m-> 6685\u001b[0;31m         name, _ctx._post_execution_callbacks, x, y)\n\u001b[0m\u001b[1;32m   6686\u001b[0m       \u001b[0;32mreturn\u001b[0m \u001b[0m_result\u001b[0m\u001b[0;34m\u001b[0m\u001b[0;34m\u001b[0m\u001b[0m\n\u001b[1;32m   6687\u001b[0m     \u001b[0;32mexcept\u001b[0m \u001b[0m_core\u001b[0m\u001b[0;34m.\u001b[0m\u001b[0m_FallbackException\u001b[0m\u001b[0;34m:\u001b[0m\u001b[0;34m\u001b[0m\u001b[0;34m\u001b[0m\u001b[0m\n",
      "\u001b[0;31mKeyboardInterrupt\u001b[0m: "
     ]
    }
   ],
   "source": [
    "from data_gen import *\n",
    "from linear_models import *\n",
    "from sklearn.metrics import accuracy_score\n",
    "\n",
    "\n",
    "for i in range(1):\n",
    "    id_l = Datasets.load_obj('SPAM_l_'+str(i))\n",
    "    id_u = Datasets.load_obj('SPAM_u_'+str(i))\n",
    "    id_test = Datasets.load_obj('SPAM_test_'+str(i))\n",
    "    LK = SSL_Halfspaces(epochs=5000, verbose=True)\n",
    "    LK.fit(X[id_l,], y[id_l], X[id_u,], y[id_u])"
   ]
  },
  {
   "cell_type": "code",
   "execution_count": null,
   "metadata": {},
   "outputs": [
    {
     "name": "stdout",
     "output_type": "stream",
     "text": [
      "leakage :  0.1 learning_rate :  0.2  epochs :  1 0.5453587886767611\n",
      "leakage :  0.1 learning_rate :  0.2  epochs :  5 0.5884463462804477\n",
      "leakage :  0.1 learning_rate :  0.001  epochs :  1 0.5453587886767611\n",
      "leakage :  0.1 learning_rate :  0.001  epochs :  5 0.5884463462804477\n",
      "leakage :  0.2 learning_rate :  0.2  epochs :  1 0.5567807768268597\n",
      "leakage :  0.2 learning_rate :  0.2  epochs :  5 0.5943054641211323\n",
      "leakage :  0.2 learning_rate :  0.001  epochs :  1 0.5567807768268597\n",
      "leakage :  0.2 learning_rate :  0.001  epochs :  5 0.5943054641211323\n",
      "leakage :  0.3 learning_rate :  0.2  epochs :  1 0.5677419354838709\n",
      "leakage :  0.3 learning_rate :  0.2  epochs :  5 0.5947004608294931\n",
      "leakage :  0.3 learning_rate :  0.001  epochs :  1 0.5677419354838709\n",
      "leakage :  0.3 learning_rate :  0.001  epochs :  5 0.5947004608294931\n",
      "leakage :  0.4 learning_rate :  0.2  epochs :  1 0.5868005266622778\n",
      "leakage :  0.4 learning_rate :  0.2  epochs :  5 0.5975641869651086\n",
      "leakage :  0.4 learning_rate :  0.001  epochs :  1 0.5868005266622778\n",
      "leakage :  0.4 learning_rate :  0.001  epochs :  5 0.5975641869651086\n",
      "leakage :  0.5 learning_rate :  0.2  epochs :  1 0.601250822909809\n",
      "leakage :  0.5 learning_rate :  0.2  epochs :  5 0.6023699802501645\n",
      "leakage :  0.5 learning_rate :  0.001  epochs :  1 0.601250822909809\n",
      "leakage :  0.5 learning_rate :  0.001  epochs :  5 0.6023699802501645\n",
      "leakage :  0.6 learning_rate :  0.2  epochs :  1 0.6023041474654378\n",
      "leakage :  0.6 learning_rate :  0.2  epochs :  5 0.6023699802501645\n",
      "leakage :  0.6 learning_rate :  0.001  epochs :  1 0.6023041474654378\n",
      "leakage :  0.6 learning_rate :  0.001  epochs :  5 0.6023699802501645\n",
      "leakage :  0.7 learning_rate :  0.2  epochs :  1 0.5852205398288347\n",
      "leakage :  0.7 learning_rate :  0.2  epochs :  5 0.5898946675444371\n",
      "leakage :  0.7 learning_rate :  0.001  epochs :  1 0.5852205398288347\n",
      "leakage :  0.7 learning_rate :  0.001  epochs :  5 0.5898946675444371\n",
      "leakage :  0.8 learning_rate :  0.2  epochs :  1 0.5720210664911125\n",
      "leakage :  0.8 learning_rate :  0.2  epochs :  5 0.5715273206056617\n",
      "leakage :  0.8 learning_rate :  0.001  epochs :  1 0.5720210664911125\n",
      "leakage :  0.8 learning_rate :  0.001  epochs :  5 0.5715273206056617\n"
     ]
    }
   ],
   "source": [
    "from data_gen import *\n",
    "from linear_models import *\n",
    "\n",
    "S = []\n",
    "for leak in [.1, .2, .3, .4, .5, .6, .7, .8, .9]:\n",
    "    for rt in [.2, .001]:\n",
    "        for ep in [1, 5]:\n",
    "            L = []\n",
    "            S = []\n",
    "            for i in range(20):\n",
    "                id_l = Datasets.load_obj('SPAM_l_'+str(i))\n",
    "                id_u = Datasets.load_obj('SPAM_u_'+str(i))\n",
    "                id_all = np.concatenate((id_l, id_u))\n",
    "                id_test = Datasets.load_obj('SPAM_test_'+str(i))\n",
    "                hlf = Halfspace(epochs=ep, leakage=leak, learning_rate=rt)\n",
    "                hlf.fit(X[id_all,], y[id_all])\n",
    "                S.append(hlf.score(X[id_test,], y[id_test]))\n",
    "            print('leakage : ', leak, 'learning_rate : ', rt, ' epochs : ', ep, np.mean(S))"
   ]
  },
  {
   "cell_type": "code",
   "execution_count": 11,
   "metadata": {},
   "outputs": [
    {
     "name": "stdout",
     "output_type": "stream",
     "text": [
      "leakage :  0.01 learning_rate :  0.2  epochs :  1 0.5527649769585254\n",
      "leakage :  0.01 learning_rate :  0.2  epochs :  2 0.5611915734035551\n",
      "leakage :  0.01 learning_rate :  0.2  epochs :  3 0.5684002633311389\n",
      "leakage :  0.01 learning_rate :  0.2  epochs :  4 0.5728768926925609\n",
      "leakage :  0.01 learning_rate :  0.2  epochs :  5 0.5837722185648453\n",
      "leakage :  0.01 learning_rate :  0.1  epochs :  1 0.5527649769585254\n",
      "leakage :  0.01 learning_rate :  0.1  epochs :  2 0.5611915734035551\n",
      "leakage :  0.01 learning_rate :  0.1  epochs :  3 0.5684002633311389\n",
      "leakage :  0.01 learning_rate :  0.1  epochs :  4 0.5728768926925609\n",
      "leakage :  0.01 learning_rate :  0.1  epochs :  5 0.5837722185648453\n",
      "leakage :  0.01 learning_rate :  0.01  epochs :  1 0.5527649769585254\n",
      "leakage :  0.01 learning_rate :  0.01  epochs :  2 0.5611915734035551\n",
      "leakage :  0.01 learning_rate :  0.01  epochs :  3 0.5684002633311389\n",
      "leakage :  0.01 learning_rate :  0.01  epochs :  4 0.5728768926925609\n"
     ]
    },
    {
     "ename": "KeyboardInterrupt",
     "evalue": "",
     "output_type": "error",
     "traceback": [
      "\u001b[0;31m---------------------------------------------------------------------------\u001b[0m",
      "\u001b[0;31mKeyboardInterrupt\u001b[0m                         Traceback (most recent call last)",
      "\u001b[0;32m<ipython-input-11-d3120ce2b290>\u001b[0m in \u001b[0;36m<module>\u001b[0;34m\u001b[0m\n\u001b[1;32m     14\u001b[0m                 \u001b[0mid_test\u001b[0m \u001b[0;34m=\u001b[0m \u001b[0mDatasets\u001b[0m\u001b[0;34m.\u001b[0m\u001b[0mload_obj\u001b[0m\u001b[0;34m(\u001b[0m\u001b[0;34m'SPAM_test_'\u001b[0m\u001b[0;34m+\u001b[0m\u001b[0mstr\u001b[0m\u001b[0;34m(\u001b[0m\u001b[0mi\u001b[0m\u001b[0;34m)\u001b[0m\u001b[0;34m)\u001b[0m\u001b[0;34m\u001b[0m\u001b[0;34m\u001b[0m\u001b[0m\n\u001b[1;32m     15\u001b[0m                 \u001b[0mhlf\u001b[0m \u001b[0;34m=\u001b[0m \u001b[0mHalfspace\u001b[0m\u001b[0;34m(\u001b[0m\u001b[0mepochs\u001b[0m\u001b[0;34m=\u001b[0m\u001b[0mep\u001b[0m\u001b[0;34m,\u001b[0m \u001b[0mleakage\u001b[0m\u001b[0;34m=\u001b[0m\u001b[0mleak\u001b[0m\u001b[0;34m,\u001b[0m \u001b[0mlearning_rate\u001b[0m\u001b[0;34m=\u001b[0m\u001b[0mrt\u001b[0m\u001b[0;34m)\u001b[0m\u001b[0;34m\u001b[0m\u001b[0;34m\u001b[0m\u001b[0m\n\u001b[0;32m---> 16\u001b[0;31m                 \u001b[0mhlf\u001b[0m\u001b[0;34m.\u001b[0m\u001b[0mfit\u001b[0m\u001b[0;34m(\u001b[0m\u001b[0mX\u001b[0m\u001b[0;34m[\u001b[0m\u001b[0mid_all\u001b[0m\u001b[0;34m,\u001b[0m\u001b[0;34m]\u001b[0m\u001b[0;34m,\u001b[0m \u001b[0my\u001b[0m\u001b[0;34m[\u001b[0m\u001b[0mid_all\u001b[0m\u001b[0;34m]\u001b[0m\u001b[0;34m)\u001b[0m\u001b[0;34m\u001b[0m\u001b[0;34m\u001b[0m\u001b[0m\n\u001b[0m\u001b[1;32m     17\u001b[0m                 \u001b[0mS\u001b[0m\u001b[0;34m.\u001b[0m\u001b[0mappend\u001b[0m\u001b[0;34m(\u001b[0m\u001b[0mhlf\u001b[0m\u001b[0;34m.\u001b[0m\u001b[0mscore\u001b[0m\u001b[0;34m(\u001b[0m\u001b[0mX\u001b[0m\u001b[0;34m[\u001b[0m\u001b[0mid_test\u001b[0m\u001b[0;34m,\u001b[0m\u001b[0;34m]\u001b[0m\u001b[0;34m,\u001b[0m \u001b[0my\u001b[0m\u001b[0;34m[\u001b[0m\u001b[0mid_test\u001b[0m\u001b[0;34m]\u001b[0m\u001b[0;34m)\u001b[0m\u001b[0;34m)\u001b[0m\u001b[0;34m\u001b[0m\u001b[0;34m\u001b[0m\u001b[0m\n\u001b[1;32m     18\u001b[0m             \u001b[0mprint\u001b[0m\u001b[0;34m(\u001b[0m\u001b[0;34m'leakage : '\u001b[0m\u001b[0;34m,\u001b[0m \u001b[0mleak\u001b[0m\u001b[0;34m,\u001b[0m \u001b[0;34m'learning_rate : '\u001b[0m\u001b[0;34m,\u001b[0m \u001b[0mrt\u001b[0m\u001b[0;34m,\u001b[0m \u001b[0;34m' epochs : '\u001b[0m\u001b[0;34m,\u001b[0m \u001b[0mep\u001b[0m\u001b[0;34m,\u001b[0m \u001b[0mnp\u001b[0m\u001b[0;34m.\u001b[0m\u001b[0mmean\u001b[0m\u001b[0;34m(\u001b[0m\u001b[0mS\u001b[0m\u001b[0;34m)\u001b[0m\u001b[0;34m)\u001b[0m\u001b[0;34m\u001b[0m\u001b[0;34m\u001b[0m\u001b[0m\n",
      "\u001b[0;32m~/Desktop/ssl/code/linear_models.py\u001b[0m in \u001b[0;36mfit\u001b[0;34m(self, X, Y)\u001b[0m\n\u001b[1;32m     78\u001b[0m             \u001b[0mXl\u001b[0m\u001b[0;34m,\u001b[0m \u001b[0mY\u001b[0m \u001b[0;34m=\u001b[0m \u001b[0mshuffle\u001b[0m\u001b[0;34m(\u001b[0m\u001b[0mX\u001b[0m\u001b[0;34m,\u001b[0m \u001b[0mY\u001b[0m\u001b[0;34m,\u001b[0m \u001b[0mrandom_state\u001b[0m\u001b[0;34m=\u001b[0m\u001b[0;36m2020\u001b[0m\u001b[0;34m)\u001b[0m\u001b[0;34m\u001b[0m\u001b[0;34m\u001b[0m\u001b[0m\n\u001b[1;32m     79\u001b[0m             \u001b[0;32mfor\u001b[0m \u001b[0mx\u001b[0m\u001b[0;34m,\u001b[0m \u001b[0my\u001b[0m \u001b[0;32min\u001b[0m \u001b[0mzip\u001b[0m\u001b[0;34m(\u001b[0m\u001b[0mX\u001b[0m\u001b[0;34m,\u001b[0m \u001b[0;36m2\u001b[0m\u001b[0;34m*\u001b[0m\u001b[0mY\u001b[0m\u001b[0;34m-\u001b[0m\u001b[0;36m1\u001b[0m\u001b[0;34m)\u001b[0m\u001b[0;34m:\u001b[0m\u001b[0;34m\u001b[0m\u001b[0;34m\u001b[0m\u001b[0m\n\u001b[0;32m---> 80\u001b[0;31m                 \u001b[0mself\u001b[0m\u001b[0;34m.\u001b[0m\u001b[0mtrain\u001b[0m\u001b[0;34m(\u001b[0m\u001b[0mself\u001b[0m\u001b[0;34m.\u001b[0m\u001b[0mmodel\u001b[0m\u001b[0;34m,\u001b[0m \u001b[0mx\u001b[0m\u001b[0;34m,\u001b[0m \u001b[0my\u001b[0m\u001b[0;34m)\u001b[0m\u001b[0;34m\u001b[0m\u001b[0;34m\u001b[0m\u001b[0m\n\u001b[0m\u001b[1;32m     81\u001b[0m                 \u001b[0mw_\u001b[0m \u001b[0;34m+=\u001b[0m \u001b[0mself\u001b[0m\u001b[0;34m.\u001b[0m\u001b[0mmodel\u001b[0m\u001b[0;34m.\u001b[0m\u001b[0mw\u001b[0m\u001b[0;34m.\u001b[0m\u001b[0mnumpy\u001b[0m\u001b[0;34m(\u001b[0m\u001b[0;34m)\u001b[0m\u001b[0;34m\u001b[0m\u001b[0;34m\u001b[0m\u001b[0m\n\u001b[1;32m     82\u001b[0m         \u001b[0mself\u001b[0m\u001b[0;34m.\u001b[0m\u001b[0mmodel\u001b[0m\u001b[0;34m.\u001b[0m\u001b[0mw\u001b[0m\u001b[0;34m.\u001b[0m\u001b[0massign\u001b[0m\u001b[0;34m(\u001b[0m\u001b[0mw_\u001b[0m \u001b[0;34m/\u001b[0m \u001b[0;34m(\u001b[0m\u001b[0mself\u001b[0m\u001b[0;34m.\u001b[0m\u001b[0mepochs\u001b[0m \u001b[0;34m*\u001b[0m \u001b[0mlen\u001b[0m\u001b[0;34m(\u001b[0m\u001b[0mY\u001b[0m\u001b[0;34m)\u001b[0m\u001b[0;34m)\u001b[0m\u001b[0;34m)\u001b[0m\u001b[0;34m\u001b[0m\u001b[0;34m\u001b[0m\u001b[0m\n",
      "\u001b[0;32m~/Desktop/ssl/code/linear_models.py\u001b[0m in \u001b[0;36mtrain\u001b[0;34m(self, model, inputs, outputs)\u001b[0m\n\u001b[1;32m     66\u001b[0m         \u001b[0;32mwith\u001b[0m \u001b[0mtf\u001b[0m\u001b[0;34m.\u001b[0m\u001b[0mGradientTape\u001b[0m\u001b[0;34m(\u001b[0m\u001b[0;34m)\u001b[0m \u001b[0;32mas\u001b[0m \u001b[0mtape\u001b[0m\u001b[0;34m:\u001b[0m\u001b[0;34m\u001b[0m\u001b[0;34m\u001b[0m\u001b[0m\n\u001b[1;32m     67\u001b[0m             \u001b[0mcurrent_loss\u001b[0m \u001b[0;34m=\u001b[0m \u001b[0mself\u001b[0m\u001b[0;34m.\u001b[0m\u001b[0mloss\u001b[0m\u001b[0;34m(\u001b[0m\u001b[0mmodel\u001b[0m\u001b[0;34m(\u001b[0m\u001b[0minputs\u001b[0m\u001b[0;34m)\u001b[0m\u001b[0;34m,\u001b[0m \u001b[0moutputs\u001b[0m\u001b[0;34m)\u001b[0m\u001b[0;34m\u001b[0m\u001b[0;34m\u001b[0m\u001b[0m\n\u001b[0;32m---> 68\u001b[0;31m         \u001b[0mdw\u001b[0m \u001b[0;34m=\u001b[0m \u001b[0mtape\u001b[0m\u001b[0;34m.\u001b[0m\u001b[0mgradient\u001b[0m\u001b[0;34m(\u001b[0m\u001b[0mcurrent_loss\u001b[0m\u001b[0;34m,\u001b[0m \u001b[0;34m[\u001b[0m\u001b[0mmodel\u001b[0m\u001b[0;34m.\u001b[0m\u001b[0mw\u001b[0m\u001b[0;34m]\u001b[0m\u001b[0;34m)\u001b[0m\u001b[0;34m\u001b[0m\u001b[0;34m\u001b[0m\u001b[0m\n\u001b[0m\u001b[1;32m     69\u001b[0m         \u001b[0mmodel\u001b[0m\u001b[0;34m.\u001b[0m\u001b[0mw\u001b[0m\u001b[0;34m.\u001b[0m\u001b[0massign_sub\u001b[0m\u001b[0;34m(\u001b[0m\u001b[0mtf\u001b[0m\u001b[0;34m.\u001b[0m\u001b[0mreshape\u001b[0m\u001b[0;34m(\u001b[0m\u001b[0mself\u001b[0m\u001b[0;34m.\u001b[0m\u001b[0mlearning_rate\u001b[0m \u001b[0;34m*\u001b[0m \u001b[0mdw\u001b[0m\u001b[0;34m,\u001b[0m \u001b[0mmodel\u001b[0m\u001b[0;34m.\u001b[0m\u001b[0mw\u001b[0m\u001b[0;34m.\u001b[0m\u001b[0mshape\u001b[0m\u001b[0;34m)\u001b[0m\u001b[0;34m)\u001b[0m\u001b[0;34m\u001b[0m\u001b[0;34m\u001b[0m\u001b[0m\n\u001b[1;32m     70\u001b[0m \u001b[0;34m\u001b[0m\u001b[0m\n",
      "\u001b[0;32m~/opt/anaconda3/envs/tf2/lib/python3.7/site-packages/tensorflow_core/python/eager/backprop.py\u001b[0m in \u001b[0;36mgradient\u001b[0;34m(self, target, sources, output_gradients, unconnected_gradients)\u001b[0m\n\u001b[1;32m   1012\u001b[0m         \u001b[0moutput_gradients\u001b[0m\u001b[0;34m=\u001b[0m\u001b[0moutput_gradients\u001b[0m\u001b[0;34m,\u001b[0m\u001b[0;34m\u001b[0m\u001b[0;34m\u001b[0m\u001b[0m\n\u001b[1;32m   1013\u001b[0m         \u001b[0msources_raw\u001b[0m\u001b[0;34m=\u001b[0m\u001b[0mflat_sources_raw\u001b[0m\u001b[0;34m,\u001b[0m\u001b[0;34m\u001b[0m\u001b[0;34m\u001b[0m\u001b[0m\n\u001b[0;32m-> 1014\u001b[0;31m         unconnected_gradients=unconnected_gradients)\n\u001b[0m\u001b[1;32m   1015\u001b[0m \u001b[0;34m\u001b[0m\u001b[0m\n\u001b[1;32m   1016\u001b[0m     \u001b[0;32mif\u001b[0m \u001b[0;32mnot\u001b[0m \u001b[0mself\u001b[0m\u001b[0;34m.\u001b[0m\u001b[0m_persistent\u001b[0m\u001b[0;34m:\u001b[0m\u001b[0;34m\u001b[0m\u001b[0;34m\u001b[0m\u001b[0m\n",
      "\u001b[0;32m~/opt/anaconda3/envs/tf2/lib/python3.7/site-packages/tensorflow_core/python/eager/imperative_grad.py\u001b[0m in \u001b[0;36mimperative_grad\u001b[0;34m(tape, target, sources, output_gradients, sources_raw, unconnected_gradients)\u001b[0m\n\u001b[1;32m     74\u001b[0m       \u001b[0moutput_gradients\u001b[0m\u001b[0;34m,\u001b[0m\u001b[0;34m\u001b[0m\u001b[0;34m\u001b[0m\u001b[0m\n\u001b[1;32m     75\u001b[0m       \u001b[0msources_raw\u001b[0m\u001b[0;34m,\u001b[0m\u001b[0;34m\u001b[0m\u001b[0;34m\u001b[0m\u001b[0m\n\u001b[0;32m---> 76\u001b[0;31m       compat.as_str(unconnected_gradients.value))\n\u001b[0m",
      "\u001b[0;32m~/opt/anaconda3/envs/tf2/lib/python3.7/site-packages/tensorflow_core/python/eager/backprop.py\u001b[0m in \u001b[0;36m_gradient_function\u001b[0;34m(op_name, attr_tuple, num_inputs, inputs, outputs, out_grads, skip_input_indices)\u001b[0m\n\u001b[1;32m    136\u001b[0m     \u001b[0;32mreturn\u001b[0m \u001b[0;34m[\u001b[0m\u001b[0;32mNone\u001b[0m\u001b[0;34m]\u001b[0m \u001b[0;34m*\u001b[0m \u001b[0mnum_inputs\u001b[0m\u001b[0;34m\u001b[0m\u001b[0;34m\u001b[0m\u001b[0m\n\u001b[1;32m    137\u001b[0m \u001b[0;34m\u001b[0m\u001b[0m\n\u001b[0;32m--> 138\u001b[0;31m   \u001b[0;32mreturn\u001b[0m \u001b[0mgrad_fn\u001b[0m\u001b[0;34m(\u001b[0m\u001b[0mmock_op\u001b[0m\u001b[0;34m,\u001b[0m \u001b[0;34m*\u001b[0m\u001b[0mout_grads\u001b[0m\u001b[0;34m)\u001b[0m\u001b[0;34m\u001b[0m\u001b[0;34m\u001b[0m\u001b[0m\n\u001b[0m\u001b[1;32m    139\u001b[0m \u001b[0;34m\u001b[0m\u001b[0m\n\u001b[1;32m    140\u001b[0m \u001b[0;34m\u001b[0m\u001b[0m\n",
      "\u001b[0;32m~/opt/anaconda3/envs/tf2/lib/python3.7/site-packages/tensorflow_core/python/ops/math_grad.py\u001b[0m in \u001b[0;36m_MulGrad\u001b[0;34m(op, grad)\u001b[0m\n\u001b[1;32m   1175\u001b[0m       \u001b[0m_ShapesFullySpecifiedAndEqual\u001b[0m\u001b[0;34m(\u001b[0m\u001b[0mx\u001b[0m\u001b[0;34m,\u001b[0m \u001b[0my\u001b[0m\u001b[0;34m,\u001b[0m \u001b[0mgrad\u001b[0m\u001b[0;34m)\u001b[0m \u001b[0;32mand\u001b[0m\u001b[0;34m\u001b[0m\u001b[0;34m\u001b[0m\u001b[0m\n\u001b[1;32m   1176\u001b[0m       grad.dtype in (dtypes.int32, dtypes.float32)):\n\u001b[0;32m-> 1177\u001b[0;31m     \u001b[0;32mreturn\u001b[0m \u001b[0mgen_math_ops\u001b[0m\u001b[0;34m.\u001b[0m\u001b[0mmul\u001b[0m\u001b[0;34m(\u001b[0m\u001b[0mgrad\u001b[0m\u001b[0;34m,\u001b[0m \u001b[0my\u001b[0m\u001b[0;34m)\u001b[0m\u001b[0;34m,\u001b[0m \u001b[0mgen_math_ops\u001b[0m\u001b[0;34m.\u001b[0m\u001b[0mmul\u001b[0m\u001b[0;34m(\u001b[0m\u001b[0mgrad\u001b[0m\u001b[0;34m,\u001b[0m \u001b[0mx\u001b[0m\u001b[0;34m)\u001b[0m\u001b[0;34m\u001b[0m\u001b[0;34m\u001b[0m\u001b[0m\n\u001b[0m\u001b[1;32m   1178\u001b[0m   \u001b[0;32massert\u001b[0m \u001b[0mx\u001b[0m\u001b[0;34m.\u001b[0m\u001b[0mdtype\u001b[0m\u001b[0;34m.\u001b[0m\u001b[0mbase_dtype\u001b[0m \u001b[0;34m==\u001b[0m \u001b[0my\u001b[0m\u001b[0;34m.\u001b[0m\u001b[0mdtype\u001b[0m\u001b[0;34m.\u001b[0m\u001b[0mbase_dtype\u001b[0m\u001b[0;34m,\u001b[0m \u001b[0;34m(\u001b[0m\u001b[0mx\u001b[0m\u001b[0;34m.\u001b[0m\u001b[0mdtype\u001b[0m\u001b[0;34m,\u001b[0m \u001b[0;34m\" vs. \"\u001b[0m\u001b[0;34m,\u001b[0m \u001b[0my\u001b[0m\u001b[0;34m.\u001b[0m\u001b[0mdtype\u001b[0m\u001b[0;34m)\u001b[0m\u001b[0;34m\u001b[0m\u001b[0;34m\u001b[0m\u001b[0m\n\u001b[1;32m   1179\u001b[0m \u001b[0;34m\u001b[0m\u001b[0m\n",
      "\u001b[0;32m~/opt/anaconda3/envs/tf2/lib/python3.7/site-packages/tensorflow_core/python/ops/gen_math_ops.py\u001b[0m in \u001b[0;36mmul\u001b[0;34m(x, y, name)\u001b[0m\n\u001b[1;32m   6683\u001b[0m       _result = _pywrap_tensorflow.TFE_Py_FastPathExecute(\n\u001b[1;32m   6684\u001b[0m         \u001b[0m_ctx\u001b[0m\u001b[0;34m.\u001b[0m\u001b[0m_context_handle\u001b[0m\u001b[0;34m,\u001b[0m \u001b[0m_ctx\u001b[0m\u001b[0;34m.\u001b[0m\u001b[0m_thread_local_data\u001b[0m\u001b[0;34m.\u001b[0m\u001b[0mdevice_name\u001b[0m\u001b[0;34m,\u001b[0m \u001b[0;34m\"Mul\"\u001b[0m\u001b[0;34m,\u001b[0m\u001b[0;34m\u001b[0m\u001b[0;34m\u001b[0m\u001b[0m\n\u001b[0;32m-> 6685\u001b[0;31m         name, _ctx._post_execution_callbacks, x, y)\n\u001b[0m\u001b[1;32m   6686\u001b[0m       \u001b[0;32mreturn\u001b[0m \u001b[0m_result\u001b[0m\u001b[0;34m\u001b[0m\u001b[0;34m\u001b[0m\u001b[0m\n\u001b[1;32m   6687\u001b[0m     \u001b[0;32mexcept\u001b[0m \u001b[0m_core\u001b[0m\u001b[0;34m.\u001b[0m\u001b[0m_FallbackException\u001b[0m\u001b[0;34m:\u001b[0m\u001b[0;34m\u001b[0m\u001b[0;34m\u001b[0m\u001b[0m\n",
      "\u001b[0;31mKeyboardInterrupt\u001b[0m: "
     ]
    }
   ],
   "source": [
    "from data_gen import *\n",
    "from linear_models import *\n",
    "\n",
    "S = []\n",
    "for leak in [.01, .1, .2, .3, .4, .5, .6, .7, .8, .9]:\n",
    "    for rt in [.2, .1, .01, .001]:\n",
    "        for ep in [1, 2, 3, 4, 5]:\n",
    "            L = []\n",
    "            S = []\n",
    "            for i in range(20):\n",
    "                id_l = Datasets.load_obj('SPAM_l_'+str(i))\n",
    "                id_u = Datasets.load_obj('SPAM_u_'+str(i))\n",
    "                id_all = np.concatenate((id_l, id_u))\n",
    "                id_test = Datasets.load_obj('SPAM_test_'+str(i))\n",
    "                hlf = Halfspace(epochs=ep, leakage=leak, learning_rate=rt)\n",
    "                hlf.fit(X[id_all,], y[id_all])\n",
    "                S.append(hlf.score(X[id_test,], y[id_test]))\n",
    "            print('leakage : ', leak, 'learning_rate : ', rt, ' epochs : ', ep, np.mean(S))"
   ]
  },
  {
   "cell_type": "code",
   "execution_count": 8,
   "metadata": {},
   "outputs": [
    {
     "name": "stdout",
     "output_type": "stream",
     "text": [
      "leakage :  0.01 learning_rate :  0.2  epochs :  1 0.5151086240947992\n",
      "leakage :  0.01 learning_rate :  0.2  epochs :  2 0.5073403554970375\n",
      "leakage :  0.01 learning_rate :  0.2  epochs :  3 0.4882159315339039\n",
      "leakage :  0.01 learning_rate :  0.2  epochs :  4 0.4858459512837393\n",
      "leakage :  0.01 learning_rate :  0.2  epochs :  5 0.4932521395655036\n",
      "leakage :  0.01 learning_rate :  0.1  epochs :  1 0.5151086240947992\n",
      "leakage :  0.01 learning_rate :  0.1  epochs :  2 0.5073403554970375\n",
      "leakage :  0.01 learning_rate :  0.1  epochs :  3 0.4882159315339039\n",
      "leakage :  0.01 learning_rate :  0.1  epochs :  4 0.4858459512837393\n",
      "leakage :  0.01 learning_rate :  0.1  epochs :  5 0.4932521395655036\n",
      "leakage :  0.01 learning_rate :  0.01  epochs :  1 0.5151086240947992\n",
      "leakage :  0.01 learning_rate :  0.01  epochs :  2 0.5073403554970375\n",
      "leakage :  0.01 learning_rate :  0.01  epochs :  3 0.4882159315339039\n",
      "leakage :  0.01 learning_rate :  0.01  epochs :  4 0.4858459512837393\n",
      "leakage :  0.01 learning_rate :  0.01  epochs :  5 0.4932521395655036\n",
      "leakage :  0.01 learning_rate :  0.001  epochs :  1 0.5151086240947992\n",
      "leakage :  0.01 learning_rate :  0.001  epochs :  2 0.5073403554970375\n",
      "leakage :  0.01 learning_rate :  0.001  epochs :  3 0.4882159315339039\n",
      "leakage :  0.01 learning_rate :  0.001  epochs :  4 0.4858459512837393\n",
      "leakage :  0.01 learning_rate :  0.001  epochs :  5 0.4932521395655036\n",
      "leakage :  0.1 learning_rate :  0.2  epochs :  1 0.52926267281106\n",
      "leakage :  0.1 learning_rate :  0.2  epochs :  2 0.5174786043449637\n",
      "leakage :  0.1 learning_rate :  0.2  epochs :  3 0.5036208031599736\n",
      "leakage :  0.1 learning_rate :  0.2  epochs :  4 0.5040157998683344\n",
      "leakage :  0.1 learning_rate :  0.2  epochs :  5 0.502995391705069\n",
      "leakage :  0.1 learning_rate :  0.1  epochs :  1 0.52926267281106\n",
      "leakage :  0.1 learning_rate :  0.1  epochs :  2 0.5174786043449637\n",
      "leakage :  0.1 learning_rate :  0.1  epochs :  3 0.5036208031599736\n",
      "leakage :  0.1 learning_rate :  0.1  epochs :  4 0.5040157998683344\n",
      "leakage :  0.1 learning_rate :  0.1  epochs :  5 0.502995391705069\n",
      "leakage :  0.1 learning_rate :  0.01  epochs :  1 0.52926267281106\n",
      "leakage :  0.1 learning_rate :  0.01  epochs :  2 0.5174786043449637\n",
      "leakage :  0.1 learning_rate :  0.01  epochs :  3 0.5036208031599736\n",
      "leakage :  0.1 learning_rate :  0.01  epochs :  4 0.5040157998683344\n",
      "leakage :  0.1 learning_rate :  0.01  epochs :  5 0.502995391705069\n",
      "leakage :  0.1 learning_rate :  0.001  epochs :  1 0.52926267281106\n",
      "leakage :  0.1 learning_rate :  0.001  epochs :  2 0.5174786043449637\n",
      "leakage :  0.1 learning_rate :  0.001  epochs :  3 0.5036208031599736\n",
      "leakage :  0.1 learning_rate :  0.001  epochs :  4 0.5040157998683344\n",
      "leakage :  0.1 learning_rate :  0.001  epochs :  5 0.502995391705069\n",
      "leakage :  0.2 learning_rate :  0.2  epochs :  1 0.5409479921000659\n",
      "leakage :  0.2 learning_rate :  0.2  epochs :  2 0.5303818301514155\n",
      "leakage :  0.2 learning_rate :  0.2  epochs :  3 0.521560236998025\n",
      "leakage :  0.2 learning_rate :  0.2  epochs :  4 0.5170506912442396\n",
      "leakage :  0.2 learning_rate :  0.2  epochs :  5 0.5064516129032258\n",
      "leakage :  0.2 learning_rate :  0.1  epochs :  1 0.5409479921000659\n",
      "leakage :  0.2 learning_rate :  0.1  epochs :  2 0.5303818301514155\n",
      "leakage :  0.2 learning_rate :  0.1  epochs :  3 0.521560236998025\n",
      "leakage :  0.2 learning_rate :  0.1  epochs :  4 0.5170506912442396\n",
      "leakage :  0.2 learning_rate :  0.1  epochs :  5 0.5064516129032258\n",
      "leakage :  0.2 learning_rate :  0.01  epochs :  1 0.5409479921000659\n",
      "leakage :  0.2 learning_rate :  0.01  epochs :  2 0.5303818301514155\n",
      "leakage :  0.2 learning_rate :  0.01  epochs :  3 0.521560236998025\n",
      "leakage :  0.2 learning_rate :  0.01  epochs :  4 0.5170506912442396\n",
      "leakage :  0.2 learning_rate :  0.01  epochs :  5 0.5064516129032258\n",
      "leakage :  0.2 learning_rate :  0.001  epochs :  1 0.5409479921000659\n",
      "leakage :  0.2 learning_rate :  0.001  epochs :  2 0.5303818301514155\n",
      "leakage :  0.2 learning_rate :  0.001  epochs :  3 0.521560236998025\n",
      "leakage :  0.2 learning_rate :  0.001  epochs :  4 0.5170506912442396\n",
      "leakage :  0.2 learning_rate :  0.001  epochs :  5 0.5064516129032258\n",
      "leakage :  0.3 learning_rate :  0.2  epochs :  1 0.5414417379855168\n",
      "leakage :  0.3 learning_rate :  0.2  epochs :  2 0.5421658986175115\n",
      "leakage :  0.3 learning_rate :  0.2  epochs :  3 0.5444700460829492\n",
      "leakage :  0.3 learning_rate :  0.2  epochs :  4 0.5325543120473997\n",
      "leakage :  0.3 learning_rate :  0.2  epochs :  5 0.521724818959842\n",
      "leakage :  0.3 learning_rate :  0.1  epochs :  1 0.5414417379855168\n",
      "leakage :  0.3 learning_rate :  0.1  epochs :  2 0.5421658986175115\n",
      "leakage :  0.3 learning_rate :  0.1  epochs :  3 0.5444700460829492\n",
      "leakage :  0.3 learning_rate :  0.1  epochs :  4 0.5325543120473997\n",
      "leakage :  0.3 learning_rate :  0.1  epochs :  5 0.521724818959842\n",
      "leakage :  0.3 learning_rate :  0.01  epochs :  1 0.5414417379855168\n",
      "leakage :  0.3 learning_rate :  0.01  epochs :  2 0.5421658986175115\n",
      "leakage :  0.3 learning_rate :  0.01  epochs :  3 0.5444700460829492\n",
      "leakage :  0.3 learning_rate :  0.01  epochs :  4 0.5325543120473997\n",
      "leakage :  0.3 learning_rate :  0.01  epochs :  5 0.521724818959842\n",
      "leakage :  0.3 learning_rate :  0.001  epochs :  1 0.5414417379855168\n",
      "leakage :  0.3 learning_rate :  0.001  epochs :  2 0.5421658986175115\n",
      "leakage :  0.3 learning_rate :  0.001  epochs :  3 0.5444700460829492\n",
      "leakage :  0.3 learning_rate :  0.001  epochs :  4 0.5325543120473997\n",
      "leakage :  0.3 learning_rate :  0.001  epochs :  5 0.521724818959842\n"
     ]
    }
   ],
   "source": [
    "from data_gen import *\n",
    "from linear_models import *\n",
    "\n",
    "S = []\n",
    "for leak in [.01, .1, .2, .3]:\n",
    "    for rt in [.2, .1, .01, .001]:\n",
    "        for ep in [1, 2, 3, 4, 5]:\n",
    "            L = []\n",
    "            S = []\n",
    "            for i in range(20):\n",
    "                id_l = Datasets.load_obj('SPAM_l_'+str(i))\n",
    "                id_u = Datasets.load_obj('SPAM_u_'+str(i))\n",
    "                id_test = Datasets.load_obj('SPAM_test_'+str(i))\n",
    "                hlf = Halfspace(epochs=ep, leakage=leak, learning_rate=rt)\n",
    "                hlf.fit(X[id_l,], y[id_l])\n",
    "                S.append(hlf.score(X[id_test,], y[id_test]))\n",
    "            print('leakage : ', leak, 'learning_rate : ', rt, ' epochs : ', ep, np.mean(S))"
   ]
  },
  {
   "cell_type": "code",
   "execution_count": 9,
   "metadata": {},
   "outputs": [
    {
     "name": "stdout",
     "output_type": "stream",
     "text": [
      "leakage :  0.4 learning_rate :  0.1  epochs :  1 0.5442067149440422\n",
      "leakage :  0.4 learning_rate :  0.1  epochs :  2 0.5486175115207373\n",
      "leakage :  0.4 learning_rate :  0.1  epochs :  3 0.5529295589203425\n",
      "leakage :  0.4 learning_rate :  0.1  epochs :  4 0.5480579328505597\n",
      "leakage :  0.4 learning_rate :  0.1  epochs :  5 0.5415075707702436\n",
      "leakage :  0.5 learning_rate :  0.1  epochs :  1 0.5537524687294273\n",
      "leakage :  0.5 learning_rate :  0.1  epochs :  2 0.5580974325213957\n",
      "leakage :  0.5 learning_rate :  0.1  epochs :  3 0.5641869651086241\n",
      "leakage :  0.5 learning_rate :  0.1  epochs :  4 0.5654048716260698\n",
      "leakage :  0.5 learning_rate :  0.1  epochs :  5 0.5608953258722844\n"
     ]
    }
   ],
   "source": [
    "from data_gen import *\n",
    "from linear_models import *\n",
    "\n",
    "S = []\n",
    "for leak in [.4, .5]:\n",
    "    for rt in [.1]:\n",
    "        for ep in [1, 2, 3, 4, 5]:\n",
    "            L = []\n",
    "            S = []\n",
    "            for i in range(20):\n",
    "                id_l = Datasets.load_obj('SPAM_l_'+str(i))\n",
    "                id_u = Datasets.load_obj('SPAM_u_'+str(i))\n",
    "                id_test = Datasets.load_obj('SPAM_test_'+str(i))\n",
    "                hlf = Halfspace(epochs=ep, leakage=leak, learning_rate=rt)\n",
    "                hlf.fit(X[id_l,], y[id_l])\n",
    "                S.append(hlf.score(X[id_test,], y[id_test]))\n",
    "            print('leakage : ', leak, 'learning_rate : ', rt, ' epochs : ', ep, np.mean(S))"
   ]
  },
  {
   "cell_type": "code",
   "execution_count": 10,
   "metadata": {},
   "outputs": [
    {
     "name": "stdout",
     "output_type": "stream",
     "text": [
      "leakage :  0.6 learning_rate :  0.1  epochs :  1 0.5560236998025017\n",
      "leakage :  0.6 learning_rate :  0.1  epochs :  2 0.5554641211323238\n",
      "leakage :  0.6 learning_rate :  0.1  epochs :  3 0.5626069782751809\n",
      "leakage :  0.6 learning_rate :  0.1  epochs :  4 0.5638248847926268\n",
      "leakage :  0.6 learning_rate :  0.1  epochs :  5 0.5633969716919024\n",
      "leakage :  0.7 learning_rate :  0.1  epochs :  1 0.5697169190256748\n",
      "leakage :  0.7 learning_rate :  0.1  epochs :  2 0.5773206056616195\n",
      "leakage :  0.7 learning_rate :  0.1  epochs :  3 0.5700131665569453\n",
      "leakage :  0.7 learning_rate :  0.1  epochs :  4 0.5640882159315338\n",
      "leakage :  0.7 learning_rate :  0.1  epochs :  5 0.5609611586570111\n",
      "leakage :  0.8 learning_rate :  0.1  epochs :  1 0.5433179723502305\n",
      "leakage :  0.8 learning_rate :  0.1  epochs :  2 0.5545424621461488\n",
      "leakage :  0.8 learning_rate :  0.1  epochs :  3 0.5482883475971033\n",
      "leakage :  0.8 learning_rate :  0.1  epochs :  4 0.5467083607636604\n",
      "leakage :  0.8 learning_rate :  0.1  epochs :  5 0.5462146148782093\n",
      "leakage :  0.9 learning_rate :  0.1  epochs :  1 0.5152732060566161\n",
      "leakage :  0.9 learning_rate :  0.1  epochs :  2 0.5159973666886108\n",
      "leakage :  0.9 learning_rate :  0.1  epochs :  3 0.5147136273864384\n",
      "leakage :  0.9 learning_rate :  0.1  epochs :  4 0.5136273864384464\n",
      "leakage :  0.9 learning_rate :  0.1  epochs :  5 0.5131336405529954\n"
     ]
    }
   ],
   "source": [
    "from data_gen import *\n",
    "from linear_models import *\n",
    "\n",
    "S = []\n",
    "for leak in [.6, .7, .8, .9]:\n",
    "    for rt in [.1]:\n",
    "        for ep in [1, 2, 3, 4, 5]:\n",
    "            L = []\n",
    "            S = []\n",
    "            for i in range(20):\n",
    "                id_l = Datasets.load_obj('SPAM_l_'+str(i))\n",
    "                id_u = Datasets.load_obj('SPAM_u_'+str(i))\n",
    "                id_test = Datasets.load_obj('SPAM_test_'+str(i))\n",
    "                hlf = Halfspace(epochs=ep, leakage=leak, learning_rate=rt)\n",
    "                hlf.fit(X[id_l,], y[id_l])\n",
    "                S.append(hlf.score(X[id_test,], y[id_test]))\n",
    "            print('leakage : ', leak, 'learning_rate : ', rt, ' epochs : ', ep, np.mean(S))"
   ]
  },
  {
   "cell_type": "markdown",
   "metadata": {},
   "source": [
    "# Labeled data provided by SLA*"
   ]
  },
  {
   "cell_type": "code",
   "execution_count": 3,
   "metadata": {},
   "outputs": [
    {
     "name": "stdout",
     "output_type": "stream",
     "text": [
      "size of Labeled data :  3082  accuracy :  0.8961713173264114\n",
      "size of Labeled data :  3082  accuracy :  0.9094743672939649\n",
      "size of Labeled data :  3082  accuracy :  0.8533419857235561\n",
      "size of Labeled data :  3082  accuracy :  0.8968202465931213\n",
      "size of Labeled data :  3082  accuracy :  0.8679428942245295\n",
      "size of Labeled data :  3082  accuracy :  0.8598312783906554\n",
      "size of Labeled data :  3082  accuracy :  0.900064892926671\n",
      "size of Labeled data :  3082  accuracy :  0.8718364698247891\n",
      "size of Labeled data :  3082  accuracy :  0.8737832576249189\n",
      "size of Labeled data :  3082  accuracy :  0.9136924075275795\n",
      "size of Labeled data :  3082  accuracy :  0.8335496430889033\n",
      "size of Labeled data :  3082  accuracy :  0.8990914990266061\n",
      "size of Labeled data :  3082  accuracy :  0.8526930564568462\n",
      "size of Labeled data :  3082  accuracy :  0.8569110966904607\n",
      "size of Labeled data :  3082  accuracy :  0.8780012978585334\n",
      "size of Labeled data :  3082  accuracy :  0.8737832576249189\n",
      "size of Labeled data :  3082  accuracy :  0.8238157040882543\n",
      "size of Labeled data :  3082  accuracy :  0.8831927319922128\n",
      "size of Labeled data :  3082  accuracy :  0.8614536015574302\n",
      "size of Labeled data :  3082  accuracy :  0.8718364698247891\n"
     ]
    }
   ],
   "source": [
    "from self_learning import msla\n",
    "from data_gen import *\n",
    "from sklearn.metrics import accuracy_score\n",
    "\n",
    "\n",
    "for i in range(20):\n",
    "    id_l = Datasets.load_obj('SPAM_l_'+str(i))\n",
    "    id_u = Datasets.load_obj('SPAM_u_'+str(i))\n",
    "    id_test = Datasets.load_obj('SPAM_test_'+str(i))\n",
    "    H0, Xl, yl, Xu, yu, thetas, _ = msla(x_l=X[id_l,], y_l=y[id_l], x_u=X[id_u,], y_tl=y[id_l], y_u=y[id_u], random_state=2020)"
   ]
  },
  {
   "cell_type": "code",
   "execution_count": 3,
   "metadata": {},
   "outputs": [
    {
     "name": "stdout",
     "output_type": "stream",
     "text": [
      "=== Training on labeled data only ===\n",
      "SVM :  0.6283080974325214 0.044082116368001155\n",
      "Halfspace :  0.5414417379855168 0.08019543152829305\n",
      "SLA* :  0.8730743910467412 0.026833300922639265\n",
      "=== Training on labeled + pseudo labeled data from LSA* data ===\n",
      "SVM :  0.8269585253456221 0.044558766057872234\n",
      "Halfspace :  0.576695194206715 0.029175141285267072\n",
      "Halfspaces LK :  0.8735681369321922 0.026322804927467476\n",
      "=== Training on all data ===\n",
      "SVM :  0.882258064516129 0.008734388127837797\n",
      "Halfspace :  0.5677419354838709 0.01964797079102654\n",
      "Halfspaces LK :  0.9156682027649768 0.007557592217500986\n"
     ]
    }
   ],
   "source": [
    "from sklearn.svm import LinearSVC\n",
    "from self_learning import msla\n",
    "from linear_models import *\n",
    "from data_gen import *\n",
    "from sklearn.metrics import accuracy_score\n",
    "\n",
    "err_SVM = []\n",
    "err_HS = []\n",
    "err_SLA = []\n",
    "pl_SVM = []\n",
    "pl_HS = []\n",
    "pl_LK = []\n",
    "all_SVM = []\n",
    "all_HS = []\n",
    "all_LK = []\n",
    "\n",
    "for i in range(20):\n",
    "    id_l = Datasets.load_obj('SPAM_l_'+str(i))\n",
    "    id_u = Datasets.load_obj('SPAM_u_'+str(i))\n",
    "    id_test = Datasets.load_obj('SPAM_test_'+str(i))\n",
    "    \n",
    "    ### Training on labeled data only\n",
    "    ## SVM\n",
    "    clf = LinearSVC(random_state=2020)\n",
    "    clf.fit(X[id_l,], y[id_l])\n",
    "    err_SVM.append(clf.score(X[id_test,], y[id_test]))\n",
    "    \n",
    "    ## Halfspace LTF\n",
    "    hlf = Halfspace(epochs=1)\n",
    "    hlf.fit(X[id_l,], y[id_l])\n",
    "    err_HS.append(hlf.score(X[id_test,], y[id_test]))\n",
    "    \n",
    "    ## SLA*\n",
    "    H0, Xl, yl, Xu, yu, thetas, _ = msla(X[id_l,], y[id_l], X[id_u,], random_state=2020)\n",
    "    err_SLA.append(accuracy_score(y[id_test], H0.predict(X[id_test,])))\n",
    "    \n",
    "    ### Training on labeled + pseudo labeled from SLA*\n",
    "    ## SVM\n",
    "    clf = LinearSVC(random_state=2020)\n",
    "    clf.fit(Xl, yl)\n",
    "    pl_SVM.append(clf.score(X[id_test,], y[id_test]))\n",
    "    \n",
    "    ## Halfspace LTF\n",
    "    hlf = Halfspace(epochs=1)\n",
    "    hlf.fit(Xl, yl)\n",
    "    pl_HS.append(hlf.score(X[id_test,], y[id_test]))\n",
    "    \n",
    "    ## Halfspaces \n",
    "    LK = Halfspaces(epochs=1, frac=20)\n",
    "    LK.fit(Xl, yl)\n",
    "    pl_LK.append(LK.score(X[id_test,], y[id_test]))\n",
    "    \n",
    "    ### Training on labeled + unlabled data\n",
    "    id_all = np.concatenate((id_l, id_u))\n",
    "    \n",
    "    ## SVM\n",
    "    clf = LinearSVC(random_state=2020)\n",
    "    clf.fit(X[id_all,], y[id_all])\n",
    "    all_SVM.append(clf.score(X[id_test,], y[id_test]))\n",
    "\n",
    "    ## Halfspace LTF\n",
    "    hlf = Halfspace(epochs=1)\n",
    "    hlf.fit(X[id_all,], y[id_all])\n",
    "    all_HS.append(hlf.score(X[id_test,], y[id_test]))\n",
    "    \n",
    "    ## Halfspaces \n",
    "    LK = Halfspaces(epochs=1, frac=20)\n",
    "    LK.fit(X[id_all,], y[id_all])\n",
    "    all_LK.append(LK.score(X[id_test,], y[id_test]))\n",
    "    \n",
    "print('=== Training on labeled data only ===')\n",
    "print('SVM : ', np.mean(err_SVM), np.std(err_SVM))\n",
    "print('Halfspace : ', np.mean(err_HS), np.std(err_HS))\n",
    "print('SLA* : ', np.mean(err_SLA), np.std(err_SLA))\n",
    "\n",
    "print('=== Training on labeled + pseudo labeled data from LSA* data ===')\n",
    "print('SVM : ', np.mean(pl_SVM), np.std(pl_SVM))\n",
    "print('Halfspace : ', np.mean(pl_HS), np.std(pl_HS))\n",
    "print('Halfspaces LK : ', np.mean(pl_LK), np.std(pl_LK))\n",
    "\n",
    "print('=== Training on all data ===')\n",
    "print('SVM : ', np.mean(all_SVM), np.std(all_SVM))\n",
    "print('Halfspace : ', np.mean(all_HS), np.std(all_HS))\n",
    "print('Halfspaces LK : ', np.mean(all_LK), np.std(all_LK))"
   ]
  },
  {
   "cell_type": "code",
   "execution_count": null,
   "metadata": {},
   "outputs": [],
   "source": [
    "from data_gen import *\n",
    "from linear_models import *\n",
    "from sklearn.metrics import accuracy_score\n",
    "\n",
    "\n",
    "for i in range(20):\n",
    "    id_l = Datasets.load_obj('SPAM_l_'+str(i))\n",
    "    id_u = Datasets.load_obj('SPAM_u_'+str(i))\n",
    "    id_test = Datasets.load_obj('SPAM_test_'+str(i))\n",
    "      \n",
    "    ### Training on labeled + unlabled data\n",
    "    id_all = np.concatenate((id_l, id_u))\n",
    "      \n",
    "    ## Halfspaces \n",
    "    LK = Halfspaces(epochs=1, frac=20, leakage=.3, thresh='rand', learning_rate=.1)\n",
    "    LK.fit(X[id_all,], y[id_all])\n",
    "    print(LK.score(X[id_test,], y[id_test]))"
   ]
  },
  {
   "cell_type": "code",
   "execution_count": null,
   "metadata": {},
   "outputs": [
    {
     "name": "stdout",
     "output_type": "stream",
     "text": [
      "0.9203423304805793\n"
     ]
    }
   ],
   "source": [
    "from data_gen import *\n",
    "from linear_models import *\n",
    "from sklearn.metrics import accuracy_score\n",
    "\n",
    "\n",
    "for i in range(20):\n",
    "    id_l = Datasets.load_obj('SPAM_l_'+str(i))\n",
    "    id_u = Datasets.load_obj('SPAM_u_'+str(i))\n",
    "    id_test = Datasets.load_obj('SPAM_test_'+str(i))\n",
    "      \n",
    "    ### Training on labeled + unlabled data\n",
    "    id_all = np.concatenate((id_l, id_u))\n",
    "      \n",
    "    ## Halfspaces \n",
    "    LK = Halfspaces(epochs=1, frac=20, leakage=.3, thresh='rand', learning_rate=.1)\n",
    "    LK.fit(X[id_all,], y[id_all])\n",
    "    print(LK.score(X[id_test,], y[id_test]))"
   ]
  },
  {
   "cell_type": "code",
   "execution_count": 2,
   "metadata": {},
   "outputs": [
    {
     "name": "stdout",
     "output_type": "stream",
     "text": [
      "0.9078341013824884\n"
     ]
    }
   ],
   "source": [
    "from data_gen import *\n",
    "from linear_models import *\n",
    "from sklearn.metrics import accuracy_score\n",
    "\n",
    "\n",
    "for i in range(1):\n",
    "    id_l = Datasets.load_obj('SPAM_l_'+str(i))\n",
    "    id_u = Datasets.load_obj('SPAM_u_'+str(i))\n",
    "    id_test = Datasets.load_obj('SPAM_test_'+str(i))\n",
    "      \n",
    "    ### Training on labeled + unlabled data\n",
    "    id_all = np.concatenate((id_l, id_u))\n",
    "      \n",
    "    ## Halfspaces \n",
    "    LK = Halfspaces(epochs=1, frac=20, leakage=.3, thresh='max', learning_rate=.1)\n",
    "    LK.fit(X[id_all,], y[id_all])\n",
    "    print(LK.score(X[id_test,], y[id_test]))"
   ]
  },
  {
   "cell_type": "code",
   "execution_count": 2,
   "metadata": {},
   "outputs": [
    {
     "name": "stdout",
     "output_type": "stream",
     "text": [
      "-- Split  0  --\n",
      "-- Split  1  --\n",
      "-- Split  2  --\n",
      "-- Split  3  --\n",
      "-- Split  4  --\n",
      "-- Split  5  --\n",
      "-- Split  6  --\n",
      "-- Split  7  --\n",
      "-- Split  8  --\n",
      "-- Split  9  --\n",
      "-- Split  10  --\n",
      "-- Split  11  --\n",
      "-- Split  12  --\n",
      "-- Split  13  --\n",
      "-- Split  14  --\n",
      "-- Split  15  --\n",
      "-- Split  16  --\n",
      "-- Split  17  --\n",
      "-- Split  18  --\n",
      "-- Split  19  --\n",
      "=== Training on labeled data only ===\n",
      "SVM :  0.6355826201448321 0.08017381164428462\n",
      "Halfspace :  0.8060895325872284 0.03753015852379013\n",
      "SLA :  0.8470704410796577 0.0441517179562596\n",
      "SLA* :  0.8766622778143516 0.027453356582267753\n",
      "=== Training on labeled + pseudo labeled data from LSA* data ===\n",
      "SVM :  0.829756418696511 0.039762892980157456\n",
      "Halfspace :  0.8596774193548387 0.022347563979431346\n",
      "Halfspaces LK :  0.875378538512179 0.022273576838452804\n"
     ]
    }
   ],
   "source": [
    "from sklearn.svm import LinearSVC\n",
    "from sklearn.utils import shuffle\n",
    "from self_learning import msla, fsla\n",
    "from linear_models import *\n",
    "from sklearn.metrics import accuracy_score\n",
    "\n",
    "err_SVM = []\n",
    "err_HS = []\n",
    "err_MSLA = []\n",
    "err_FSLA = []\n",
    "pl_SVM = []\n",
    "pl_HS = []\n",
    "pl_LK = []\n",
    "for i in range(20):\n",
    "    print('-- Split ', i, ' --')\n",
    "    X, y = shuffle(X, y, random_state=2020)\n",
    "    X_train, X_test, y_train, y_test = train_test_split(X, y, test_size=0.33, random_state=2020)\n",
    "    X_l, X_u, y_l, y_u = train_test_split(X_train, y_train, train_size=50, random_state=2020)\n",
    "    \n",
    "    ## SVM\n",
    "    clf = LinearSVC(random_state=2020)\n",
    "    clf.fit(X_l, y_l)\n",
    "    err_SVM.append(clf.score(X_test, y_test))\n",
    "    \n",
    "    ## Halfspace LTF\n",
    "    hlf = Halfspace(epochs=1)\n",
    "    hlf.fit(X_l, y_l)\n",
    "    err_HS.append(hlf.score(X_test, y_test))\n",
    "    \n",
    "    ## SLA\n",
    "    H1, _, _, _ = fsla(X_l, y_l, X_u, theta=0.7, max_iter=100, random_state=2020)\n",
    "    err_FSLA.append(accuracy_score(y_test, H1.predict(X_test)))\n",
    "    \n",
    "    ## SLA*\n",
    "    H0, Xl, yl, Xu, yu, thetas, _ = msla(X_l, y_l, X_u, random_state=2020)\n",
    "    err_MSLA.append(accuracy_score(y_test, H0.predict(X_test)))\n",
    "    \n",
    "    ## SVM on labeled + pseudo labeled data \n",
    "    clf = LinearSVC(random_state=2020)\n",
    "    clf.fit(Xl, yl)\n",
    "    pl_SVM.append(clf.score(X_test, y_test))\n",
    "    \n",
    "    ## Halfspace LTF on labeled + pseudo labeled data \n",
    "    hlf = Halfspace(epochs=1)\n",
    "    hlf.fit(Xl, yl)\n",
    "    pl_HS.append(hlf.score(X_test, y_test))\n",
    "    \n",
    "    LK = Halfspaces(epochs=1, frac=20)\n",
    "    LK.fit(Xl, yl)\n",
    "    pl_LK.append(LK.score(X_test, y_test))\n",
    "    \n",
    "print('=== Training on labeled data only ===')\n",
    "print('SVM : ', np.mean(err_SVM), np.std(err_SVM))\n",
    "print('Halfspace : ', np.mean(err_HS), np.std(err_HS))\n",
    "print('SLA : ', np.mean(err_FSLA), np.std(err_FSLA))\n",
    "print('SLA* : ', np.mean(err_MSLA), np.std(err_MSLA))\n",
    "print('=== Training on labeled + pseudo labeled data from LSA* data ===')\n",
    "print('SVM : ', np.mean(pl_SVM), np.std(pl_SVM))\n",
    "print('Halfspace : ', np.mean(pl_HS), np.std(pl_HS))\n",
    "print('Halfspaces LK : ', np.mean(pl_LK), np.std(pl_LK))"
   ]
  },
  {
   "cell_type": "code",
   "execution_count": 13,
   "metadata": {},
   "outputs": [
    {
     "data": {
      "text/plain": [
       "0.9111257406188282"
      ]
     },
     "execution_count": 13,
     "metadata": {},
     "output_type": "execute_result"
    }
   ],
   "source": [
    "LK2 = Halfspaces(epochs=1, frac=20)\n",
    "LK2.fit(Xl, yl)\n",
    "LK2.score(X_test, y_test)"
   ]
  },
  {
   "cell_type": "code",
   "execution_count": 14,
   "metadata": {},
   "outputs": [
    {
     "data": {
      "text/plain": [
       "21"
      ]
     },
     "execution_count": 14,
     "metadata": {},
     "output_type": "execute_result"
    }
   ],
   "source": [
    "len(LK2.models)"
   ]
  },
  {
   "cell_type": "code",
   "execution_count": 16,
   "metadata": {},
   "outputs": [
    {
     "data": {
      "text/plain": [
       "(0.9124423963133641, 19)"
      ]
     },
     "execution_count": 16,
     "metadata": {},
     "output_type": "execute_result"
    }
   ],
   "source": [
    "LK3 = Halfspaces(epochs=1, frac=40)\n",
    "LK3.fit(Xl, yl)\n",
    "LK3.score(X_test, y_test), len(LK3.models)"
   ]
  },
  {
   "cell_type": "code",
   "execution_count": 5,
   "metadata": {},
   "outputs": [
    {
     "name": "stdout",
     "output_type": "stream",
     "text": [
      "-- Split  0  --\n",
      "=== Training on labeled data only ===\n",
      "Halfspace :  0.826201448321264 0.0\n",
      "SLA* :  0.9157340355497038 0.0\n",
      "=== Training on labeled + pseudo labeled data from LSA* data ===\n",
      "Halfspace :  0.8861092824226465 0.0\n",
      "Halfspaces LK :  0.9065174456879526 0.0 19 [3082, 2852, 2254, 2229, 1999, 1424, 1240, 1125, 895, 872, 849, 711, 596, 504, 458, 320, 205, 182, 159]\n"
     ]
    }
   ],
   "source": [
    "from sklearn.svm import LinearSVC\n",
    "from sklearn.utils import shuffle\n",
    "from self_learning import msla, fsla\n",
    "from linear_models import *\n",
    "from sklearn.metrics import accuracy_score\n",
    "\n",
    "err_HS = []\n",
    "err_MSLA = []\n",
    "pl_HS = []\n",
    "pl_LK = []\n",
    "\n",
    "for i in range(1):\n",
    "    print('-- Split ', i, ' --')\n",
    "    X, y = shuffle(X, y, random_state=2020)\n",
    "    X_train, X_test, y_train, y_test = train_test_split(X, y, test_size=0.33, random_state=2020)\n",
    "    X_l, X_u, y_l, y_u = train_test_split(X_train, y_train, train_size=50, random_state=2020)\n",
    "    \n",
    "    ## Halfspace LTF\n",
    "    hlf = Halfspace(epochs=1)\n",
    "    hlf.fit(X_l, y_l)\n",
    "    err_HS.append(hlf.score(X_test, y_test))\n",
    "       \n",
    "    ## SLA*\n",
    "    H0, Xl, yl, Xu, yu, thetas, _ = msla(X_l, y_l, X_u, random_state=2020)\n",
    "    err_MSLA.append(accuracy_score(y_test, H0.predict(X_test)))\n",
    "    \n",
    "    ## Halfspace LTF on labeled + pseudo labeled data \n",
    "    hlf = Halfspace(epochs=1)\n",
    "    hlf.fit(Xl, yl)\n",
    "    pl_HS.append(hlf.score(X_test, y_test))\n",
    "    \n",
    "    LK = Halfspaces(epochs=1, thresh='max')\n",
    "    LK.fit(Xl, yl)\n",
    "    pl_LK.append(LK.score(X_test, y_test))\n",
    "\n",
    "print('=== Training on labeled data only ===')\n",
    "print('Halfspace : ', np.mean(err_HS), np.std(err_HS))\n",
    "print('SLA* : ', np.mean(err_MSLA), np.std(err_MSLA))\n",
    "print('=== Training on labeled + pseudo labeled data from LSA* data ===')\n",
    "print('Halfspace : ', np.mean(pl_HS), np.std(pl_HS))\n",
    "print('Halfspaces LK : ', np.mean(pl_LK), np.std(pl_LK), len(LK.models), LK.trace)"
   ]
  },
  {
   "cell_type": "code",
   "execution_count": 31,
   "metadata": {},
   "outputs": [
    {
     "name": "stdout",
     "output_type": "stream",
     "text": [
      "-- Split  0  --\n",
      "-- Split  1  --\n",
      "-- Split  2  --\n",
      "-- Split  3  --\n",
      "-- Split  4  --\n",
      "-- Split  5  --\n",
      "-- Split  6  --\n",
      "-- Split  7  --\n",
      "-- Split  8  --\n",
      "-- Split  9  --\n",
      "-- Split  10  --\n",
      "-- Split  11  --\n",
      "-- Split  12  --\n",
      "-- Split  13  --\n",
      "-- Split  14  --\n",
      "-- Split  15  --\n",
      "-- Split  16  --\n",
      "-- Split  17  --\n",
      "-- Split  18  --\n",
      "-- Split  19  --\n",
      "=== Training on labeled data only ===\n",
      "Halfspace :  0.8075049374588547 0.03341777462777168\n",
      "SLA* :  0.8766622778143516 0.027453356582267753\n",
      "=== Training on labeled + pseudo labeled data from LSA* data ===\n",
      "Halfspace :  0.8598420013166557 0.021209909278529573\n",
      "Halfspaces LK :  0.8781105990783409 0.021313230610047876 22 [3082, 2948, 2728, 2454, 2384, 2047, 1768, 1489, 1165, 697, 632, 501, 366, 353, 246, 245, 214, 212, 209, 194, 186, 181]\n"
     ]
    }
   ],
   "source": [
    "from sklearn.svm import LinearSVC\n",
    "from sklearn.utils import shuffle\n",
    "from self_learning import msla, fsla\n",
    "from linear_models import *\n",
    "from sklearn.metrics import accuracy_score\n",
    "\n",
    "err_HS = []\n",
    "err_MSLA = []\n",
    "pl_HS = []\n",
    "pl_LK = []\n",
    "\n",
    "for i in range(20):\n",
    "    print('-- Split ', i, ' --')\n",
    "    X, y = shuffle(X, y, random_state=2020)\n",
    "    X_train, X_test, y_train, y_test = train_test_split(X, y, test_size=0.33, random_state=2020)\n",
    "    X_l, X_u, y_l, y_u = train_test_split(X_train, y_train, train_size=50, random_state=2020)\n",
    "\n",
    "    ## Halfspace LTF\n",
    "    hlf = Halfspace(epochs=1, leakage=.2)\n",
    "    hlf.fit(X_l, y_l)\n",
    "    err_HS.append(hlf.score(X_test, y_test))\n",
    "       \n",
    "    ## SLA*\n",
    "    H0, Xl, yl, Xu, yu, thetas, _ = msla(X_l, y_l, X_u, random_state=2020)\n",
    "    err_MSLA.append(accuracy_score(y_test, H0.predict(X_test)))\n",
    "    \n",
    "    ## Halfspace LTF on labeled + pseudo labeled data \n",
    "    hlf = Halfspace(epochs=1, leakage=.2)\n",
    "    hlf.fit(Xl, yl)\n",
    "    pl_HS.append(hlf.score(X_test, y_test))\n",
    "    \n",
    "    LK = Halfspaces(epochs=1, leakage=.2, frac=20)\n",
    "    LK.fit(Xl, yl)\n",
    "    pl_LK.append(LK.score(X_test, y_test))\n",
    "\n",
    "print('=== Training on labeled data only ===')\n",
    "print('Halfspace : ', np.mean(err_HS), np.std(err_HS))\n",
    "print('SLA* : ', np.mean(err_MSLA), np.std(err_MSLA))\n",
    "print('=== Training on labeled + pseudo labeled data from LSA* data ===')\n",
    "print('Halfspace : ', np.mean(pl_HS), np.std(pl_HS))\n",
    "print('Halfspaces LK : ', np.mean(pl_LK), np.std(pl_LK), len(LK.models), LK.trace)"
   ]
  },
  {
   "cell_type": "markdown",
   "metadata": {},
   "source": [
    "# Differents scores on halfspaces list LK"
   ]
  },
  {
   "cell_type": "code",
   "execution_count": 2,
   "metadata": {},
   "outputs": [
    {
     "name": "stdout",
     "output_type": "stream",
     "text": [
      "-- Split  0  --\n",
      "-- Split  1  --\n",
      "-- Split  2  --\n",
      "-- Split  3  --\n",
      "-- Split  4  --\n",
      "-- Split  5  --\n",
      "-- Split  6  --\n",
      "-- Split  7  --\n",
      "-- Split  8  --\n",
      "-- Split  9  --\n",
      "-- Split  10  --\n",
      "-- Split  11  --\n",
      "-- Split  12  --\n",
      "-- Split  13  --\n",
      "-- Split  14  --\n",
      "-- Split  15  --\n",
      "-- Split  16  --\n",
      "-- Split  17  --\n",
      "-- Split  18  --\n",
      "-- Split  19  --\n",
      "=== Training on labeled data only ===\n",
      "SLA* :  0.8766622778143516 0.027453356582267753\n",
      "=== Training on labeled + pseudo labeled data from LSA* data ===\n",
      "Halfspaces LK :  0.8740947992100067 0.021763560923157416 15 [3082, 2973, 2307, 1687, 1266, 1091, 549, 485, 355, 279, 268, 251, 249, 227, 188]\n",
      "Majority vote : 0.8672152732060564 0.025347844947542508\n",
      "Majority vote with margin : 0.8626728110599078 0.020642961148905282\n",
      "Errors per halfspace : [[0.8887425938117183, 0.8900592495062541, 0.8900592495062541, 0.8867676102699145, 0.8880842659644503, 0.8821593153390388, 0.8821593153390388, 0.8992758393680053, 0.9032258064516129, 0.9012508229098091, 0.9150757077024358, 0.9104674127715603, 0.9052007899934167, 0.9078341013824884, 0.8736010533245556, 0.8946675444371297, 0.8999341672152732, 0.9005924950625411, 0.8887425938117183, 0.7254772876892692, 0.7215273206056616, 0.7755102040816326, 0.7873601053324556, 0.7867017774851877, 0.8064516129032258, 0.8248847926267281, 0.8275181040157998, 0.7965766951942067, 0.8169848584595129, 0.8104015799868335], [0.8821593153390388, 0.8847926267281107, 0.8834759710335747, 0.8736010533245556, 0.8531928900592495, 0.8689927583936801, 0.8847926267281107, 0.8518762343647136, 0.8051349572086899, 0.8222514812376563, 0.8130348913759052, 0.6458196181698486, 0.5641869651086241], [0.8828176431863067, 0.8828176431863067, 0.8847926267281107, 0.8861092824226465, 0.8828176431863067, 0.8821593153390388, 0.8604344963791969, 0.8716260697827518, 0.8709677419354839, 0.869651086240948, 0.8657011191573404, 0.8643844634628045, 0.8670177748518763, 0.7057274522712311, 0.7366688610928243, 0.6905859117840685, 0.695852534562212, 0.7452271231073074], [0.8604344963791969, 0.8564845292955892, 0.8406846609611587, 0.8426596445029625, 0.8426596445029625, 0.8413429888084266, 0.8393680052666228, 0.8485845951283739, 0.8439763001974984, 0.8334430546412114, 0.8505595786701777, 0.8367346938775511, 0.8090849242922976, 0.8071099407504937, 0.7992100065832785, 0.7748518762343647, 0.7682685977616853, 0.5582620144832127, 0.5819618169848585, 0.6063199473337723, 0.608953258722844, 0.597761685319289, 0.5483870967741935, 0.44173798551678733, 0.631336405529954, 0.5931533903884134], [0.8643844634628045, 0.8683344305464121, 0.8650427913100724, 0.8670177748518763, 0.8518762343647136, 0.8637261356155366, 0.859117840684661, 0.8815009874917709, 0.8650427913100724, 0.8709677419354839, 0.8670177748518763, 0.8314680710994075, 0.8347597103357473, 0.8492429229756419, 0.8637261356155366, 0.8064516129032258, 0.8071099407504937, 0.7992100065832785, 0.837393021724819, 0.8011849901250823, 0.7893350888742594, 0.7794601711652402], [0.8538512179065174, 0.8617511520737328, 0.8643844634628045, 0.8617511520737328, 0.8637261356155366, 0.859776168531929, 0.8755760368663594, 0.8538512179065174, 0.8499012508229098, 0.8531928900592495, 0.8499012508229098, 0.815668202764977, 0.8189598420013167, 0.8189598420013167, 0.685319289005925, 0.6879526003949967, 0.7353522053982884, 0.7215273206056616, 0.6583278472679395, 0.6747860434496379, 0.6556945358788677, 0.6767610269914417, 0.7123107307439105], [0.8828176431863067, 0.8861092824226465, 0.8867676102699145, 0.8742593811718236, 0.8716260697827518, 0.8755760368663594, 0.8821593153390388, 0.8815009874917709, 0.8683344305464121, 0.8643844634628045, 0.8703094140882159, 0.5813034891375906, 0.5832784726793944, 0.5780118499012509, 0.5490454246214614, 0.5016458196181699, 0.5404871626069783, 0.5378538512179065, 0.5780118499012509, 0.6471362738643844, 0.5200789993416721, 0.6240947992100065, 0.6082949308755761, 0.6082949308755761], [0.8301514154048716, 0.8294930875576036, 0.8288347597103357, 0.8420013166556946, 0.8420013166556946, 0.8380513495720869, 0.8354180381830152, 0.8413429888084266, 0.8387096774193549, 0.8229098090849243, 0.8242264647794602, 0.8202764976958525, 0.8215931533903884, 0.7919684002633312, 0.7959183673469388, 0.8169848584595129, 0.8097432521395656, 0.7992100065832785, 0.7294272547728768, 0.7228439763001975, 0.7544437129690585, 0.7583936800526663, 0.7386438446346281, 0.4707044107965767, 0.54312047399605, 0.47662936142198814, 0.4470046082949309], [0.8531928900592495, 0.8518762343647136, 0.8558262014483212, 0.8446346280447663, 0.8400263331138907, 0.8354180381830152, 0.8558262014483212, 0.8531928900592495, 0.7847267939433838, 0.8531928900592495, 0.8617511520737328, 0.695194206714944], [0.8485845951283739, 0.8499012508229098, 0.8499012508229098, 0.8538512179065174, 0.8643844634628045, 0.8716260697827518, 0.8689927583936801, 0.8755760368663594, 0.7926267281105991, 0.7695852534562212, 0.7860434496379197, 0.7656352863726136, 0.7142857142857143], [0.8775510204081632, 0.8722843976300197, 0.8762343647136274, 0.8749177090190915, 0.8775510204081632, 0.8709677419354839, 0.8657011191573404, 0.8663594470046083, 0.8657011191573404, 0.8196181698485846, 0.8505595786701777, 0.7366688610928243, 0.727452271231073, 0.7524687294272547, 0.7893350888742594, 0.7788018433179723, 0.7741935483870968, 0.7261356155365372, 0.6714944042132982, 0.5845951283739302, 0.6260697827518104, 0.6280447662936142], [0.8788676761026991, 0.8808426596445029, 0.879526003949967, 0.8703094140882159, 0.8703094140882159, 0.8624094799210007, 0.8749177090190915, 0.8808426596445029, 0.8703094140882159, 0.8406846609611587, 0.8610928242264648, 0.8525345622119815, 0.7630019749835418, 0.7880184331797235, 0.8051349572086899, 0.7873601053324556, 0.78275181040158, 0.7847267939433838, 0.771560236998025, 0.7551020408163265, 0.7570770243581304, 0.6445029624753127], [0.8341013824884793, 0.8334430546412114, 0.8354180381830152, 0.8354180381830152, 0.8360763660302831, 0.8268597761685319, 0.8235681369321922, 0.8235681369321922, 0.8242264647794602, 0.8235681369321922, 0.815009874917709, 0.8202764976958525, 0.815668202764977, 0.8123765635286373, 0.6227781435154707, 0.6017116524028966, 0.576036866359447, 0.5780118499012509, 0.7037524687294272, 0.6300197498354181, 0.6477946017116524], [0.8545095457537853, 0.8446346280447663, 0.8301514154048716, 0.826201448321264, 0.8242264647794602, 0.8064516129032258, 0.804476629361422, 0.8084265964450297, 0.7919684002633312, 0.7465437788018433, 0.7537853851217906, 0.7399605003291639, 0.7603686635944701, 0.7353522053982884, 0.7735352205398288, 0.7695852534562212, 0.8018433179723502, 0.749177090190915, 0.7781435154707044], [0.8788676761026991, 0.8736010533245556, 0.8657011191573404, 0.8676761026991442, 0.8630678077682686, 0.8663594470046083, 0.8670177748518763, 0.858459512837393, 0.859117840684661, 0.8657011191573404, 0.8610928242264648, 0.8564845292955892, 0.8643844634628045, 0.8670177748518763, 0.8518762343647136, 0.8551678736010533, 0.7992100065832785, 0.803818301514154, 0.8294930875576036], [0.8084265964450297, 0.8090849242922976, 0.8071099407504937, 0.8064516129032258, 0.8209348255431205, 0.8143515470704411, 0.815668202764977, 0.826201448321264, 0.815668202764977, 0.8104015799868335, 0.8071099407504937, 0.8136932192231732, 0.7860434496379197, 0.7906517445687953, 0.7551020408163265, 0.7254772876892692, 0.7432521395655036, 0.7511520737327189, 0.6069782751810402, 0.6662277814351547, 0.6550362080315998, 0.6675444371296906, 0.7221856484529295], [0.8294930875576036, 0.8281764318630678, 0.8354180381830152, 0.8354180381830152, 0.8288347597103357, 0.8248847926267281, 0.8294930875576036, 0.8327847267939433, 0.8321263989466754, 0.8308097432521395, 0.8275181040157998, 0.8301514154048716, 0.8183015141540487, 0.6840026333113891, 0.6971691902567478, 0.7537853851217906, 0.771560236998025, 0.7656352863726136, 0.7327188940092166, 0.815009874917709, 0.7926267281105991, 0.7998683344305464, 0.7992100065832785, 0.7965766951942067, 0.8031599736668861, 0.7182356813693219, 0.6965108624094799, 0.6761026991441738], [0.8624094799210007, 0.8624094799210007, 0.8729427254772877, 0.8834759710335747, 0.8854509545753786, 0.8933508887425938, 0.8926925608953259, 0.89137590520079, 0.8926925608953259, 0.8834759710335747, 0.8946675444371297, 0.8907175773535221, 0.8966425279789335, 0.8775510204081632, 0.8815009874917709, 0.8466096115865701, 0.8439763001974984, 0.869651086240948, 0.6260697827518104, 0.6965108624094799, 0.7037524687294272, 0.707044107965767, 0.7136273864384464, 0.7570770243581304, 0.7063857801184991], [0.8531928900592495, 0.8538512179065174, 0.858459512837393, 0.8828176431863067, 0.8775510204081632, 0.8742593811718236, 0.8749177090190915, 0.8742593811718236, 0.8676761026991442, 0.8624094799210007, 0.8617511520737328, 0.7965766951942067, 0.6774193548387096, 0.5641869651086241, 0.597103357472021], [0.8722843976300197, 0.8742593811718236, 0.8617511520737328, 0.8630678077682686, 0.8637261356155366, 0.8610928242264648, 0.7959183673469388, 0.8413429888084266, 0.7741935483870968, 0.7788018433179723, 0.8057932850559578, 0.8064516129032258, 0.8005266622778143, 0.7676102699144174, 0.7537853851217906]]\n"
     ]
    }
   ],
   "source": [
    "from sklearn.svm import LinearSVC\n",
    "from sklearn.utils import shuffle\n",
    "from self_learning import msla, fsla\n",
    "from linear_models import *\n",
    "from sklearn.metrics import accuracy_score\n",
    "\n",
    "err_MSLA = []\n",
    "err_LK = []\n",
    "per_w = []\n",
    "maj_vote_LK = []\n",
    "marg_vote_LK = []\n",
    "\n",
    "for i in range(20):\n",
    "    print('-- Split ', i, ' --')\n",
    "    X, y = shuffle(X, y, random_state=2020)\n",
    "    X_train, X_test, y_train, y_test = train_test_split(X, y, test_size=0.33, random_state=2020)\n",
    "    X_l, X_u, y_l, y_u = train_test_split(X_train, y_train, train_size=50, random_state=2020)\n",
    "       \n",
    "    ## SLA*\n",
    "    H0, Xl, yl, Xu, yu, thetas, _ = msla(X_l, y_l, X_u, random_state=2020)\n",
    "    err_MSLA.append(accuracy_score(y_test, H0.predict(X_test)))\n",
    "    \n",
    "    ## Halfspaces LK\n",
    "    LK = Halfspaces(epochs=1, leakage=.2, frac=20)\n",
    "    LK.fit(Xl, yl)\n",
    "    err_LK.append(LK.score(X_test, y_test))\n",
    "    per_w.append(LK.score(X_test, y_test, method='per_W'))\n",
    "    maj_vote_LK.append(LK.score(X_test, y_test, method='maj_vote'))\n",
    "    marg_vote_LK.append(LK.score(X_test, y_test, method='mrg_vote'))\n",
    "\n",
    "print('=== Training on labeled data only ===')\n",
    "print('SLA* : ', np.mean(err_MSLA), np.std(err_MSLA))\n",
    "print('=== Training on labeled + pseudo labeled data from LSA* data ===')\n",
    "print('Halfspaces LK : ', np.mean(err_LK), np.std(err_LK), len(LK.models), LK.trace)\n",
    "print('Majority vote :', np.mean(maj_vote_LK), np.std(maj_vote_LK))\n",
    "print('Majority vote with margin :', np.mean(marg_vote_LK), np.std(marg_vote_LK))\n",
    "print('Errors per halfspace :', per_w)"
   ]
  },
  {
   "cell_type": "code",
   "execution_count": 2,
   "metadata": {},
   "outputs": [
    {
     "name": "stdout",
     "output_type": "stream",
     "text": [
      "-- Split  0  --\n",
      "-- Split  1  --\n",
      "-- Split  2  --\n",
      "-- Split  3  --\n",
      "-- Split  4  --\n",
      "-- Split  5  --\n",
      "-- Split  6  --\n",
      "-- Split  7  --\n",
      "-- Split  8  --\n",
      "-- Split  9  --\n",
      "-- Split  10  --\n",
      "-- Split  11  --\n",
      "-- Split  12  --\n",
      "-- Split  13  --\n",
      "-- Split  14  --\n",
      "-- Split  15  --\n",
      "-- Split  16  --\n",
      "-- Split  17  --\n",
      "-- Split  18  --\n",
      "-- Split  19  --\n",
      "=== Training on labeled data only ===\n",
      "SLA* :  0.8766622778143516 0.027453356582267753\n",
      "=== Training on labeled + pseudo labeled data from SLA* data ===\n",
      "Halfspaces LK :  0.874950625411455 0.020768626389719016 21 [3082, 2806, 2389, 1845, 1592, 1333, 1323, 1212, 836, 635, 586, 442, 428, 410, 390, 352, 314, 300, 195, 177, 166]\n",
      "Majority vote : 0.8689598420013167 0.023537844497562015\n",
      "Majority vote with margin : 0.8632323897300855 0.020214926437727095\n",
      "Weighted majority vote with margins : 0.861026991441738 0.020602506452139076\n"
     ]
    }
   ],
   "source": [
    "from sklearn.svm import LinearSVC\n",
    "from sklearn.utils import shuffle\n",
    "from self_learning import msla, fsla\n",
    "from linear_models import *\n",
    "from sklearn.metrics import accuracy_score\n",
    "\n",
    "err_SLA = []\n",
    "err_LK = []\n",
    "maj_vote_LK = []\n",
    "marg_vote_LK = []\n",
    "w_marg_vote_LK = []\n",
    "\n",
    "for i in range(20):\n",
    "    print('-- Split ', i, ' --')\n",
    "    X, y = shuffle(X, y, random_state=2020)\n",
    "    X_train, X_test, y_train, y_test = train_test_split(X, y, test_size=0.33, random_state=2020)\n",
    "    X_l, X_u, y_l, y_u = train_test_split(X_train, y_train, train_size=50, random_state=2020)\n",
    "       \n",
    "    ## SLA*\n",
    "    H0, Xl, yl, Xu, yu, thetas, _ = msla(X_l, y_l, X_u, random_state=2020)\n",
    "    err_SLA.append(accuracy_score(y_test, H0.predict(X_test)))\n",
    "    \n",
    "    ## Halfspaces LK\n",
    "    LK = Halfspaces(epochs=1, leakage=.2, frac=20)\n",
    "    LK.fit(Xl, yl)\n",
    "    err_LK.append(LK.score(X_test, y_test))\n",
    "    maj_vote_LK.append(LK.score(X_test, y_test, method='maj_vote'))\n",
    "    marg_vote_LK.append(LK.score(X_test, y_test, method='mrg_vote'))\n",
    "    w_marg_vote_LK.append(LK.score(X_test, y_test, method='w_mrg_vote'))\n",
    "\n",
    "print('=== Training on labeled data only ===')\n",
    "print('SLA* : ', np.mean(err_SLA), np.std(err_SLA))\n",
    "print('=== Training on labeled + pseudo labeled data from SLA* data ===')\n",
    "print('Halfspaces LK : ', np.mean(err_LK), np.std(err_LK), len(LK.models), LK.trace)\n",
    "print('Majority vote :', np.mean(maj_vote_LK), np.std(maj_vote_LK))\n",
    "print('Majority vote with margin :', np.mean(marg_vote_LK), np.std(marg_vote_LK))\n",
    "print('Weighted majority vote with margins :', np.mean(w_marg_vote_LK), np.std(w_marg_vote_LK))"
   ]
  },
  {
   "cell_type": "code",
   "execution_count": 21,
   "metadata": {},
   "outputs": [
    {
     "data": {
      "image/png": "[encoded data removed]",
      "text/plain": [
       "<Figure size 720x432 with 1 Axes>"
      ]
     },
     "metadata": {},
     "output_type": "display_data"
    }
   ],
   "source": [
    "import matplotlib.pyplot as plt\n",
    "import seaborn as sns\n",
    "\n",
    "sns.set_style(\"darkgrid\")\n",
    "plt.figure(figsize=(10, 6))\n",
    "for l in per_w:\n",
    "    plt.plot(range(len(l)),l)\n",
    "plt.title(\"Accuracy score on test set of each halfspace in LK\")\n",
    "plt.ylabel('accuracy')\n",
    "plt.xlabel('halfspaces in LK')\n",
    "plt.show()"
   ]
  },
  {
   "cell_type": "code",
   "execution_count": 4,
   "metadata": {
    "scrolled": false
   },
   "outputs": [
    {
     "data": {
      "text/plain": [
       "(0.9196840026333114,\n",
       " 32,\n",
       " [3082,\n",
       "  2925,\n",
       "  2813,\n",
       "  2707,\n",
       "  2401,\n",
       "  2034,\n",
       "  1541,\n",
       "  1143,\n",
       "  1066,\n",
       "  752,\n",
       "  630,\n",
       "  621,\n",
       "  542,\n",
       "  319,\n",
       "  290,\n",
       "  283,\n",
       "  274,\n",
       "  254,\n",
       "  227,\n",
       "  221,\n",
       "  182,\n",
       "  166,\n",
       "  161,\n",
       "  141,\n",
       "  132,\n",
       "  125,\n",
       "  114,\n",
       "  110,\n",
       "  100,\n",
       "  92,\n",
       "  72,\n",
       "  45])"
      ]
     },
     "execution_count": 4,
     "metadata": {},
     "output_type": "execute_result"
    }
   ],
   "source": [
    "from sklearn.svm import LinearSVC\n",
    "from sklearn.utils import shuffle\n",
    "from self_learning import msla, fsla\n",
    "from linear_models import *\n",
    "\n",
    "\n",
    "for i in range(1):\n",
    "    print('-- Split ', i, ' --')\n",
    "    X, y = shuffle(X, y, random_state=2020)\n",
    "    X_train, X_test, y_train, y_test = train_test_split(X, y, test_size=0.33, random_state=2020)\n",
    "    \n",
    "    ## Halfspaces LK\n",
    "    LK = Halfspaces(epochs=1, leakage=.2, frac=20)\n",
    "    LK.fit(X_train, y_train)\n",
    "LK.score(X_test, y_test), len(LK.models), LK.trace"
   ]
  },
  {
   "cell_type": "code",
   "execution_count": 5,
   "metadata": {},
   "outputs": [
    {
     "data": {
      "text/plain": [
       "(0.9137590520079,\n",
       " 27,\n",
       " [3082,\n",
       "  2980,\n",
       "  2874,\n",
       "  2599,\n",
       "  2338,\n",
       "  1748,\n",
       "  1137,\n",
       "  950,\n",
       "  553,\n",
       "  488,\n",
       "  477,\n",
       "  472,\n",
       "  405,\n",
       "  393,\n",
       "  344,\n",
       "  278,\n",
       "  260,\n",
       "  184,\n",
       "  182,\n",
       "  181,\n",
       "  171,\n",
       "  169,\n",
       "  153,\n",
       "  151,\n",
       "  149,\n",
       "  126,\n",
       "  115])"
      ]
     },
     "execution_count": 5,
     "metadata": {},
     "output_type": "execute_result"
    }
   ],
   "source": [
    "LK = Halfspaces(epochs=1, leakage=.2, frac=20)\n",
    "LK.fit(X_train, y_train)\n",
    "LK.score(X_test, y_test), len(LK.models), LK.trace"
   ]
  },
  {
   "cell_type": "code",
   "execution_count": 6,
   "metadata": {},
   "outputs": [
    {
     "data": {
      "text/plain": [
       "(0.9229756418696511,\n",
       " 25,\n",
       " [3082,\n",
       "  2942,\n",
       "  2822,\n",
       "  2562,\n",
       "  2462,\n",
       "  2442,\n",
       "  1642,\n",
       "  1282,\n",
       "  1222,\n",
       "  1202,\n",
       "  1122,\n",
       "  922,\n",
       "  842,\n",
       "  702,\n",
       "  582,\n",
       "  562,\n",
       "  462,\n",
       "  342,\n",
       "  322,\n",
       "  302,\n",
       "  262,\n",
       "  242,\n",
       "  222,\n",
       "  182,\n",
       "  122])"
      ]
     },
     "execution_count": 6,
     "metadata": {},
     "output_type": "execute_result"
    }
   ],
   "source": [
    "LK = Halfspaces(epochs=1, leakage=.2, frac=20, thresh='max')\n",
    "LK.fit(X_train, y_train)\n",
    "LK.score(X_test, y_test), len(LK.models), LK.trace"
   ]
  },
  {
   "cell_type": "code",
   "execution_count": 8,
   "metadata": {},
   "outputs": [
    {
     "data": {
      "text/plain": [
       "(0.9229756418696511,\n",
       " 25,\n",
       " [3082,\n",
       "  2942,\n",
       "  2822,\n",
       "  2562,\n",
       "  2462,\n",
       "  2442,\n",
       "  1642,\n",
       "  1282,\n",
       "  1222,\n",
       "  1202,\n",
       "  1122,\n",
       "  922,\n",
       "  842,\n",
       "  702,\n",
       "  582,\n",
       "  562,\n",
       "  462,\n",
       "  342,\n",
       "  322,\n",
       "  302,\n",
       "  262,\n",
       "  242,\n",
       "  222,\n",
       "  182,\n",
       "  122])"
      ]
     },
     "execution_count": 8,
     "metadata": {},
     "output_type": "execute_result"
    }
   ],
   "source": [
    "LK = Halfspaces(epochs=1, leakage=.2, frac=20, thresh='max')\n",
    "LK.fit(X_train, y_train)\n",
    "LK.score(X_test, y_test), len(LK.models), LK.trace"
   ]
  },
  {
   "cell_type": "code",
   "execution_count": 3,
   "metadata": {},
   "outputs": [
    {
     "data": {
      "text/plain": [
       "[0.09491942,\n",
       " 0.038347952,\n",
       " 0.01414602,\n",
       " 0.0058584874,\n",
       " 0.0031437958,\n",
       " 0.0023463732,\n",
       " 0.0017934288,\n",
       " 0.0008647897,\n",
       " 0.00033047763,\n",
       " 0.00049944513,\n",
       " 0.00018191339,\n",
       " 0.00042385355,\n",
       " 0.00021767388,\n",
       " 0.0001662951,\n",
       " 0.000105783976,\n",
       " 0.000141321,\n",
       " 0.00038314916,\n",
       " 6.7935405e-05,\n",
       " 7.022597e-05,\n",
       " 4.7456255e-05,\n",
       " 6.524642e-07]"
      ]
     },
     "execution_count": 3,
     "metadata": {},
     "output_type": "execute_result"
    }
   ],
   "source": [
    "LK.T"
   ]
  },
  {
   "cell_type": "markdown",
   "metadata": {},
   "source": [
    "# Pretraitement\n",
    "## Finding w* and outliers removal"
   ]
  },
  {
   "cell_type": "code",
   "execution_count": 4,
   "metadata": {},
   "outputs": [
    {
     "name": "stdout",
     "output_type": "stream",
     "text": [
      "3082 1519\n",
      "SVM score:  0.879526003949967\n",
      "initial size : (array([0, 1]), array([2788, 1813])) 4601\n",
      "0.0002239674546573589\n",
      "removing samples with margin less than gamma =  0.1  :  (array([0, 1]), array([2729, 1475])) 4204\n"
     ]
    }
   ],
   "source": [
    "from sklearn.svm import LinearSVC\n",
    "\n",
    "X_train, X_test, y_train, y_test = train_test_split(X, y, test_size=0.33, random_state=2020)\n",
    "print(len(y_train), len(y_test))\n",
    "opt_clf = LinearSVC(random_state=2020)\n",
    "opt_clf.fit(X_train, y_train)\n",
    "print('SVM score: ', opt_clf.score(X_test, y_test))\n",
    "print('initial size :', np.unique(y, return_counts=True), len(y))\n",
    "gamma = .1\n",
    "print(min(np.abs(opt_clf.decision_function(X))))\n",
    "msq = np.abs(opt_clf.decision_function(X)) >= gamma\n",
    "X, y = X[msq], y[msq]\n",
    "print('removing samples with margin less than gamma = ', gamma, ' : ', np.unique(y, return_counts=True), len(y))"
   ]
  },
  {
   "cell_type": "code",
   "execution_count": 13,
   "metadata": {},
   "outputs": [
    {
     "name": "stdout",
     "output_type": "stream",
     "text": [
      "size of training set  3082 size of test set  1519\n",
      "sample complexity bound for epsilon =  0.01  :  152019\n",
      "sample complexity bound m for thresholding routine :  10596635\n"
     ]
    }
   ],
   "source": [
    "from sklearn.model_selection import train_test_split\n",
    "\n",
    "gamma = 0.1\n",
    "eps = .01\n",
    "print('size of training set ', len(y_train), 'size of test set ', len(y_test))\n",
    "print('sample complexity bound for epsilon = ', eps, ' : ', int(np.log(2/(gamma * eps)) * (2/(eps**2)))+1)\n",
    "m = int(2*np.log(2/eps)/(gamma**2*eps**2))+1\n",
    "print('sample complexity bound m for thresholding routine : ', m)"
   ]
  },
  {
   "cell_type": "code",
   "execution_count": 10,
   "metadata": {},
   "outputs": [
    {
     "name": "stdout",
     "output_type": "stream",
     "text": [
      "sample complexity bound for epsilon =  0.01  :  130092\n",
      "sample complexity bound m for thresholding routine :  1993563948417073\n"
     ]
    }
   ],
   "source": [
    "gamma = 0.0002239674546573589\n",
    "eps = .01\n",
    "\n",
    "print('sample complexity bound for epsilon = ', eps, ' : ', int(np.log(1/(gamma * eps)) * (1/(eps**2)))+1)\n",
    "m = int(1/(gamma**2*eps**4))+1\n",
    "print('sample complexity bound m for thresholding routine : ', m)"
   ]
  },
  {
   "cell_type": "markdown",
   "metadata": {},
   "source": [
    "## Massart noise model with random prior"
   ]
  },
  {
   "cell_type": "code",
   "execution_count": 13,
   "metadata": {},
   "outputs": [],
   "source": [
    "import os\n",
    "os.environ['TF_CPP_MIN_LOG_LEVEL'] = '3' \n",
    "import tensorflow as tf"
   ]
  },
  {
   "cell_type": "code",
   "execution_count": 15,
   "metadata": {
    "scrolled": false
   },
   "outputs": [
    {
     "name": "stdout",
     "output_type": "stream",
     "text": [
      "opt_clf:  0.12740213523131674 2.7755575615628914e-17\n",
      "SVM:  0.14234875444839856 0.0\n"
     ]
    }
   ],
   "source": [
    "from data_gen import *\n",
    "from linear_models import *\n",
    "\n",
    "\n",
    "err_opt = []\n",
    "err_SVM = []\n",
    "err_hlfs = []\n",
    "noisy_y = Datasets.rand_Massart_noise(X, y, eta)\n",
    "for _ in range(20):\n",
    "    X_train, X_test, y_train, y_test = train_test_split(X, noisy_y, test_size=0.33, random_state=2020)\n",
    "    ## w* misc error\n",
    "    err_opt.append(1-opt_clf.score(X_test, y_test))\n",
    "    \n",
    "    ## SVM misc error\n",
    "    clf = LinearSVC(random_state=2020)\n",
    "    clf.fit(X_train, y_train)\n",
    "    err_SVM.append(1-clf.score(X_test, y_test))\n",
    "    \n",
    "    ## Halfspaces model with max acc threshloding routine\n",
    "    #hlfs = Halfspaces(leakage=eta+eps, frac=m, epochs = 1)\n",
    "    #hlfs.fit(X_train, y_train)\n",
    "    #err_hlfs.append(1-hlfs.score(X_test, y_test))\n",
    "\n",
    "    \n",
    "print('opt_clf: ', np.mean(err_opt), np.std(err_opt))\n",
    "print('SVM: ', np.mean(err_SVM), np.std(err_SVM))\n",
    "#print('half-spaces: ', np.mean(err_hlfs), np.std(err_hlfs))"
   ]
  }
 ],
 "metadata": {
  "kernelspec": {
   "display_name": "Python 3",
   "language": "python",
   "name": "python3"
  },
  "language_info": {
   "codemirror_mode": {
    "name": "ipython",
    "version": 3
   },
   "file_extension": ".py",
   "mimetype": "text/x-python",
   "name": "python",
   "nbconvert_exporter": "python",
   "pygments_lexer": "ipython3",
   "version": "3.8.10"
  }
 },
 "nbformat": 4,
 "nbformat_minor": 4
}
